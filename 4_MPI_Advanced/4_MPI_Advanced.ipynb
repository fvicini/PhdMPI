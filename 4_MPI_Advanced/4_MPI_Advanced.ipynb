{
 "cells": [
  {
   "cell_type": "markdown",
   "id": "3de70423",
   "metadata": {
    "slideshow": {
     "slide_type": "notes"
    }
   },
   "source": [
    "############# Markdown note ##################\n",
    "\n",
    "<div class=\"alert alert-block alert-info\"> <b>NOTE</b> Use blue boxes for Tips and notes. </div>\n",
    "\n",
    "<div class=\"alert alert-block alert-success\"> Use green boxes sparingly, and only for some specific purpose that the other boxes can't cover. For example, if you have a lot of related content to link to, maybe you decide to use green boxes for related links from each section of a notebook. </div>\n",
    "\n",
    "<div class=\"alert alert-block alert-warning\"> Use yellow boxes for examples that are not inside code cells, or use for mathematical formulas if needed. </div>\n",
    "\n",
    "<div class=\"alert alert-block alert-danger\"> In general, just avoid the red boxes. </div>\n",
    "\n",
    "<img src=\"<path>\" width=20% style=\"margin-left:auto; margin-right:auto\">\n",
    "<img src=\"<path>\" width=40% style=\"float: right;\">  "
   ]
  },
  {
   "cell_type": "code",
   "execution_count": null,
   "id": "91509d85",
   "metadata": {
    "slideshow": {
     "slide_type": "notes"
    }
   },
   "outputs": [],
   "source": [
    "%%sh\n",
    "\n",
    "# reset all programs\n",
    "rm -rf debug*"
   ]
  },
  {
   "cell_type": "markdown",
   "id": "371497d9",
   "metadata": {
    "slideshow": {
     "slide_type": "slide"
    }
   },
   "source": [
    "# MPI Advanced\n",
    "\n",
    "Advanced concept of **Message Passing Interface** (MPI)"
   ]
  },
  {
   "cell_type": "markdown",
   "id": "c526d145",
   "metadata": {
    "slideshow": {
     "slide_type": "slide"
    }
   },
   "source": [
    "## Advanced DataTypes"
   ]
  },
  {
   "cell_type": "markdown",
   "id": "6995845c",
   "metadata": {
    "slideshow": {
     "slide_type": "subslide"
    }
   },
   "source": [
    "## Previously on DataTypes...\n",
    "\n",
    "DataTypes can be created with different MPI routines, for example:\n",
    "\n",
    "* `MPI_Pack`: https://www.open-mpi.org/doc/v4.1/man3/MPI_Pack.3.php\n",
    "* `MPI_Type_create_struct`: https://www.open-mpi.org/doc/v4.1/man3/MPI_Type_create_struct.3.php\n",
    "\n",
    "<div class=\"alert alert-block alert-success\"> Before using a new DataType, we shall <b>commit</b> it. </div>\n",
    "\n",
    "* `MPI_Type_commit`: https://www.open-mpi.org/doc/v4.1/man3/MPI_Type_commit.3.php\n",
    "\n",
    "<div class=\"alert alert-block alert-danger\"> <b>REMARK</b>: Once a new data type is created we shall <b>destroy</b> it before closing the application:</div>\n",
    "\n",
    "* `MPI_Type_free`: https://www.open-mpi.org/doc/v4.1/man3/MPI_Type_free.3.php"
   ]
  },
  {
   "cell_type": "markdown",
   "id": "b0538d65",
   "metadata": {
    "slideshow": {
     "slide_type": "subslide"
    }
   },
   "source": [
    "## Type_Contiguous\n",
    "\n",
    "Simplest constructor. Makes count **copies** of an existing datatype\n",
    "\n",
    "* `MPI_Type_contiguous`: https://www.open-mpi.org/doc/v4.1/man3/MPI_Type_contiguous.3.php\n",
    "\n",
    "<img src=\"./Images/contigous.png\" width=80% style=\"margin-left:auto; margin-right:auto\">"
   ]
  },
  {
   "cell_type": "markdown",
   "id": "95cba101",
   "metadata": {
    "slideshow": {
     "slide_type": "subslide"
    }
   },
   "source": [
    "## Type_Vector\n",
    "\n",
    "Like contiguous, but allows for regular gaps (**stride**) in the displacements. \n",
    "\n",
    "* `MPI_Type_vector`, `MPI_Type_hvector`: https://www.open-mpi.org/doc/v4.1/man3/MPI_Type_vector.3.php\n",
    "\n",
    "<img src=\"./Images/vector.png\" width=60% style=\"margin-left:auto; margin-right:auto\">\n",
    "\n",
    "<div class=\"alert alert-block alert-info\"> <b>NOTE</b>: For <code>MPI_Type_hvector</code> the stride is specified in bytes.. </div>"
   ]
  },
  {
   "cell_type": "markdown",
   "id": "6cad7f14",
   "metadata": {
    "slideshow": {
     "slide_type": "subslide"
    }
   },
   "source": [
    "## Type_Index\n",
    "\n",
    "An array of **non regular displacements** of the input data type is provided as the map for the new data type.\n",
    "\n",
    "* `MPI_Type_indexed`, `MPI_Type_hindexed`: https://www.open-mpi.org/doc/v4.1/man3/MPI_Type_indexed.3.php\n",
    "\n",
    "<img src=\"./Images/indexed.png\" width=60% style=\"margin-left:auto; margin-right:auto\">\n",
    "\n",
    "<div class=\"alert alert-block alert-info\"> <b>NOTE</b>: For <code>MPI_Type_hindexed</code> offsets are specified in byte. </div>"
   ]
  },
  {
   "cell_type": "code",
   "execution_count": 16,
   "id": "6b7dcd26",
   "metadata": {
    "slideshow": {
     "slide_type": "subslide"
    }
   },
   "outputs": [
    {
     "name": "stdout",
     "output_type": "stream",
     "text": [
      "Overwriting main_vector.cpp\n"
     ]
    }
   ],
   "source": [
    "%%writefile main_vector.cpp\n",
    "\n",
    "#include <iostream>\n",
    "#include <mpi.h>\n",
    "\n",
    "int main(int argc, char **argv) \n",
    "{\n",
    "    MPI_Init(&argc, &argv);\n",
    "    \n",
    "    int rank;\n",
    "    MPI_Comm_rank(MPI_COMM_WORLD, &rank);\n",
    "    \n",
    "    MPI_Status status;\n",
    "    double a[4][4];\n",
    "    for (unsigned int i = 0; i < 4; i++)\n",
    "        for (unsigned int j = 0; j < 4; j++)\n",
    "            a[i][j] = (rank == 0) ? i * 4.0 + j : 0.0;\n",
    "    \n",
    "    MPI_Datatype rowType, colType;\n",
    "    \n",
    "    MPI_Type_contiguous(4, MPI_DOUBLE, &rowType);\n",
    "    MPI_Type_vector(4, 2, 4, MPI_DOUBLE, &colType);\n",
    "    \n",
    "    MPI_Type_commit(&rowType);\n",
    "    MPI_Type_commit(&colType);\n",
    "    \n",
    "    if (rank == 0)\n",
    "    {\n",
    "        MPI_Send(&a[2][0], 1, rowType, 1, 10, MPI_COMM_WORLD);\n",
    "        MPI_Send(&a[0][2], 1, colType, 1, 11, MPI_COMM_WORLD);\n",
    "    }\n",
    "    else if (rank == 1)\n",
    "    {\n",
    "        MPI_Recv(&a[2][0], 1, rowType, 0, 10, MPI_COMM_WORLD, MPI_STATUS_IGNORE);\n",
    "        MPI_Recv(&a[0][2], 1, colType, 0, 11, MPI_COMM_WORLD, MPI_STATUS_IGNORE);\n",
    "    }\n",
    "    \n",
    "    std::cout<< \"Process \"<< rank<< \": \"<< std::endl;\n",
    "    for (unsigned int i = 0; i < 4; i++)\n",
    "    {\n",
    "        for (unsigned int j = 0; j < 4; j++)\n",
    "            std::cout<< (j == 0 ? \"\" : \", \")<< a[i][j];\n",
    "        std::cout<< std::endl;\n",
    "    }\n",
    "    \n",
    "    MPI_Type_free(&rowType);\n",
    "    MPI_Type_free(&colType);\n",
    "    \n",
    "    MPI_Finalize();\n",
    "    return 0;\n",
    "}"
   ]
  },
  {
   "cell_type": "code",
   "execution_count": 17,
   "id": "4cf53e29",
   "metadata": {
    "slideshow": {
     "slide_type": "subslide"
    }
   },
   "outputs": [
    {
     "name": "stdout",
     "output_type": "stream",
     "text": [
      "-- Configuring done\n",
      "-- Generating done\n",
      "-- Build files have been written to: /home/geoscore/Desktop/GEO++/Courses/PhdMPI/4_MPI_Advanced/debug_vector\n",
      "Consolidate compiler generated dependencies of target 4_MPI_Advanced\n",
      "[ 50%] Building CXX object CMakeFiles/4_MPI_Advanced.dir/main_vector.cpp.o\n",
      "[100%] Linking CXX executable 4_MPI_Advanced\n",
      "[100%] Built target 4_MPI_Advanced\n"
     ]
    }
   ],
   "source": [
    "%%sh\n",
    "\n",
    "# compile program\n",
    "mkdir -p ./debug_vector\n",
    "cd debug_vector\n",
    "cmake -DSOURCES=\"main_vector.cpp\" ..\n",
    "make"
   ]
  },
  {
   "cell_type": "code",
   "execution_count": 18,
   "id": "ddc2f0b1",
   "metadata": {
    "slideshow": {
     "slide_type": "-"
    }
   },
   "outputs": [
    {
     "name": "stdout",
     "output_type": "stream",
     "text": [
      "Process 0: \n",
      "0, 1, 2, 3\n",
      "4, 5, 6, 7\n",
      "8, 9, 10, 11\n",
      "12, 13, 14, 15\n",
      "Process 1: \n",
      "0, 0, 2, 3\n",
      "0, 0, 6, 7\n",
      "8, 9, 10, 11\n",
      "0, 0, 14, 15\n"
     ]
    }
   ],
   "source": [
    "%%sh\n",
    "\n",
    "# run program\n",
    "cd debug_vector\n",
    "mpirun -np 2 4_MPI_Advanced"
   ]
  }
 ],
 "metadata": {
  "celltoolbar": "Slideshow",
  "kernelspec": {
   "display_name": "myenv",
   "language": "python",
   "name": "myenv"
  },
  "language_info": {
   "codemirror_mode": {
    "name": "ipython",
    "version": 3
   },
   "file_extension": ".py",
   "mimetype": "text/x-python",
   "name": "python",
   "nbconvert_exporter": "python",
   "pygments_lexer": "ipython3",
   "version": "3.10.4"
  }
 },
 "nbformat": 4,
 "nbformat_minor": 5
}
