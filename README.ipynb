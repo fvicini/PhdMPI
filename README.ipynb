{
 "cells": [
  {
   "cell_type": "markdown",
   "id": "1b391923-374a-4dbd-ab12-fb0d432e79ca",
   "metadata": {
    "slideshow": {
     "slide_type": "slide"
    }
   },
   "source": [
    "# MPI environment creation"
   ]
  },
  {
   "cell_type": "markdown",
   "id": "7de910e2-e67e-4562-b682-82f62f28da78",
   "metadata": {
    "slideshow": {
     "slide_type": "slide"
    }
   },
   "source": [
    "## MPI C++ environment instructions with Conda"
   ]
  },
  {
   "cell_type": "markdown",
   "id": "d2e158db-982f-4b04-93b2-01d2d462b5ee",
   "metadata": {
    "slideshow": {
     "slide_type": "-"
    }
   },
   "source": [
    "To perform the next steps conda package shall be installed.\n",
    "\n",
    "The following steps are use to create an MPI container in which run all the examples:"
   ]
  },
  {
   "cell_type": "code",
   "execution_count": null,
   "id": "3d78d232-c914-4893-8e15-d0afed531cf4",
   "metadata": {
    "slideshow": {
     "slide_type": "-"
    }
   },
   "outputs": [],
   "source": [
    "%%sh\n",
    "\n",
    "conda create --prefix ./myenv # create the conda environment\n",
    "conda activate myenv/ # activate the environment\n",
    "conda install -c conda-forge gcc # install gcc compiler\n",
    "conda install -c conda-forge gxx # install g++ compiler\n",
    "conda install -c conda-forge openmpi # install the mpic++ compiler\n",
    "conda install -c anaconda cmake # install the cmake\n",
    "conda deactivate # to deactivate the kernel"
   ]
  },
  {
   "cell_type": "markdown",
   "id": "554b798a",
   "metadata": {
    "slideshow": {
     "slide_type": "subslide"
    }
   },
   "source": [
    "## MPI C++ environment instructions with Linux"
   ]
  },
  {
   "cell_type": "markdown",
   "id": "6b86f3bc",
   "metadata": {
    "slideshow": {
     "slide_type": "-"
    }
   },
   "source": [
    "The following steps are use to create an MPI container in which run all the examples:"
   ]
  },
  {
   "cell_type": "code",
   "execution_count": null,
   "id": "7d71f205",
   "metadata": {
    "slideshow": {
     "slide_type": "-"
    }
   },
   "outputs": [],
   "source": [
    "%%sh\n",
    "\n",
    "sudo apt install build-essential # install gcc and g++ compiler\n",
    "sudo apt-get install cmake # install cmake\n",
    "sudo apt-get install libopenmpi-dev ## instal openmpi"
   ]
  },
  {
   "cell_type": "markdown",
   "id": "0e4c7275",
   "metadata": {
    "slideshow": {
     "slide_type": "subslide"
    }
   },
   "source": [
    "## MPI Python environment instructions"
   ]
  },
  {
   "cell_type": "markdown",
   "id": "ad9fd3f8",
   "metadata": {
    "slideshow": {
     "slide_type": "-"
    }
   },
   "source": [
    "The following steps are use to create an MPI container in which run all the examples:"
   ]
  },
  {
   "cell_type": "code",
   "execution_count": null,
   "id": "44c07d6c",
   "metadata": {
    "slideshow": {
     "slide_type": "-"
    }
   },
   "outputs": [],
   "source": [
    "pip install mpi4py"
   ]
  },
  {
   "cell_type": "markdown",
   "id": "02802873",
   "metadata": {
    "slideshow": {
     "slide_type": "subslide"
    }
   },
   "source": [
    "## Jupyter notebook installation"
   ]
  },
  {
   "cell_type": "markdown",
   "id": "a6aeca84-8c67-4aff-8adb-dcc550fea3cf",
   "metadata": {
    "slideshow": {
     "slide_type": "-"
    }
   },
   "source": [
    "To use conda from Jupyter notebook follow the steps:"
   ]
  },
  {
   "cell_type": "code",
   "execution_count": null,
   "id": "b0630834-b337-49bf-b10d-d6dc8101584d",
   "metadata": {
    "slideshow": {
     "slide_type": "-"
    }
   },
   "outputs": [],
   "source": [
    "%%sh\n",
    "\n",
    "conda activate ./myenv # activate the environment\n",
    "\n",
    "# install jupyter\n",
    "conda install -c anaconda jupyter\n",
    "conda install -c anaconda notebook\n",
    "conda install -c conda-forge rise\n",
    "conda install -c conda-forge jupyter_nbextensions_configurator\n",
    "\n",
    "# install the python virtual environment into jupyter\n",
    "conda install -c anaconda ipykernel\n",
    "python -m ipykernel install --user --name=myenv # create python conda virtual environment to use"
   ]
  },
  {
   "cell_type": "markdown",
   "id": "84486ff9-0999-4cba-b6a5-1d67f835886a",
   "metadata": {
    "slideshow": {
     "slide_type": "subslide"
    }
   },
   "source": [
    "## MPI environment test"
   ]
  },
  {
   "cell_type": "markdown",
   "id": "c010b757",
   "metadata": {
    "slideshow": {
     "slide_type": "-"
    }
   },
   "source": [
    "Check the MPI version installed"
   ]
  },
  {
   "cell_type": "code",
   "execution_count": null,
   "id": "4c4ef63d",
   "metadata": {
    "slideshow": {
     "slide_type": "-"
    }
   },
   "outputs": [],
   "source": [
    "%%sh\n",
    "mpic++ --version"
   ]
  },
  {
   "cell_type": "markdown",
   "id": "aeff46f2",
   "metadata": {
    "slideshow": {
     "slide_type": "subslide"
    }
   },
   "source": [
    "Compile the FirstExample"
   ]
  },
  {
   "cell_type": "code",
   "execution_count": null,
   "id": "80b6df71-f84a-46a1-a5da-713db78b2857",
   "metadata": {
    "scrolled": true,
    "slideshow": {
     "slide_type": "-"
    }
   },
   "outputs": [],
   "source": [
    "%%sh\n",
    "cd ./FirstExample\n",
    "mkdir -p Debug\n",
    "cd Debug\n",
    "cmake ../\n",
    "make"
   ]
  },
  {
   "cell_type": "markdown",
   "id": "fbc61d99-798f-4c9d-a924-7604c77a9866",
   "metadata": {
    "slideshow": {
     "slide_type": "-"
    }
   },
   "source": [
    "Execute the example"
   ]
  },
  {
   "cell_type": "code",
   "execution_count": null,
   "id": "bc247b58-3612-4c67-b376-9d8e30d30ee2",
   "metadata": {
    "slideshow": {
     "slide_type": "-"
    }
   },
   "outputs": [],
   "source": [
    "%%sh\n",
    "cd ./FirstExample/Debug\n",
    "mpirun -np 4 hello"
   ]
  }
 ],
 "metadata": {
  "celltoolbar": "Slideshow",
  "kernelspec": {
   "display_name": "myenv",
   "language": "python",
   "name": "myenv"
  },
  "language_info": {
   "codemirror_mode": {
    "name": "ipython",
    "version": 3
   },
   "file_extension": ".py",
   "mimetype": "text/x-python",
   "name": "python",
   "nbconvert_exporter": "python",
   "pygments_lexer": "ipython3",
   "version": "3.10.4"
  },
  "vscode": {
   "interpreter": {
    "hash": "d1d7b9e79537447614e8acc5b3c6c8d3a4952508aeb06e6bbce806b96f53eb0c"
   }
  }
 },
 "nbformat": 4,
 "nbformat_minor": 5
}
