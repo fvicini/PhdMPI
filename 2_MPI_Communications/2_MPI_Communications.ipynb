{
 "cells": [
  {
   "cell_type": "markdown",
   "id": "4e602a56",
   "metadata": {
    "slideshow": {
     "slide_type": "notes"
    }
   },
   "source": [
    "############# Markdown note ##################\n",
    "\n",
    "<div class=\"alert alert-block alert-info\"> <b>NOTE</b> Use blue boxes for Tips and notes. </div>\n",
    "\n",
    "<div class=\"alert alert-block alert-success\"> Use green boxes sparingly, and only for some specific purpose that the other boxes can't cover. For example, if you have a lot of related content to link to, maybe you decide to use green boxes for related links from each section of a notebook. </div>\n",
    "\n",
    "<div class=\"alert alert-block alert-warning\"> Use yellow boxes for examples that are not inside code cells, or use for mathematical formulas if needed. </div>\n",
    "\n",
    "<div class=\"alert alert-block alert-danger\"> In general, just avoid the red boxes. </div>\n",
    "\n",
    "<img src=\"<path>\" width=20% style=\"margin-left:auto; margin-right:auto\">"
   ]
  },
  {
   "cell_type": "code",
   "execution_count": 1,
   "id": "91509d85",
   "metadata": {
    "slideshow": {
     "slide_type": "notes"
    }
   },
   "outputs": [],
   "source": [
    "%%sh\n",
    "\n",
    "# reset all programs\n",
    "rm -rf debug*# MPI Introduction\n",
    "\n",
    "An introduction to basic concept of **Message Passing Interface** (MPI)"
   ]
  },
  {
   "cell_type": "markdown",
   "id": "371497d9",
   "metadata": {
    "slideshow": {
     "slide_type": "slide"
    }
   },
   "source": [
    "# MPI Communications\n",
    "\n",
    "Communications with **Message Passing Interface** (MPI)"
   ]
  },
  {
   "cell_type": "markdown",
   "id": "05e60611",
   "metadata": {
    "slideshow": {
     "slide_type": "slide"
    }
   },
   "source": [
    "## Point-to-point communications"
   ]
  },
  {
   "cell_type": "markdown",
   "id": "40c0d3ad",
   "metadata": {
    "slideshow": {
     "slide_type": "subslide"
    }
   },
   "source": [
    "Basic communication method provided by MPI library - communication between 2 processes.\n",
    "\n",
    "* Source process `A` sends a **message** to destination process `B`, `B` then receives the message from `A`;\n",
    "* Communication take places within a **communicator**;\n",
    "* The processes are identified by their **rank** in the communicator.\n",
    "\n",
    "<img src=\"./Images/send.png\" width=40% style=\"margin-left:auto; margin-right:auto\">"
   ]
  },
  {
   "cell_type": "markdown",
   "id": "46158565",
   "metadata": {
    "slideshow": {
     "slide_type": "subslide"
    }
   },
   "source": [
    "### Send and Recv\n",
    "\n",
    "Calls used to send and receive a simple message.\n",
    "\n",
    "* `MPI_Send`: see https://www-lb.open-mpi.org/doc/v4.1/man3/MPI_Send.3.php\n",
    "* `MPI_Recv`: see https://www-lb.open-mpi.org/doc/v4.1/man3/MPI_Recv.3.php"
   ]
  },
  {
   "cell_type": "code",
   "execution_count": 37,
   "id": "6b7dcd26",
   "metadata": {
    "collapsed": true,
    "slideshow": {
     "slide_type": "subslide"
    }
   },
   "outputs": [
    {
     "name": "stdout",
     "output_type": "stream",
     "text": [
      "Overwriting main_send_recv.cpp\n"
     ]
    }
   ],
   "source": [
    "%%writefile main_send_recv.cpp\n",
    "\n",
    "#include <iostream>\n",
    "#include <mpi.h>\n",
    "\n",
    "int main(int argc, char **argv) \n",
    "{\n",
    "    MPI_Init(&argc, &argv);\n",
    "    \n",
    "    int process_rank;\n",
    "    MPI_Comm_rank(MPI_COMM_WORLD, &process_rank);\n",
    "    \n",
    "    int tag = 10;\n",
    "    float a[2] = { 1.2, 3.4 };\n",
    "    float b[2] = { 0.0, 0.0 } ;\n",
    "    MPI_Status status;\n",
    "    \n",
    "    if (process_rank == 0)\n",
    "        MPI_Send(&a, 2, MPI_FLOAT, 1, tag, MPI_COMM_WORLD);\n",
    "    else if (process_rank == 1)\n",
    "        MPI_Recv(&b, 2, MPI_FLOAT, 0, tag, MPI_COMM_WORLD, &status);\n",
    "\n",
    "    std::cout<< \"Process \"<< process_rank<< \" \";\n",
    "    std::cout<< \"a \"<< a[0]<< \", \"<< a[1]<< \" \";\n",
    "    std::cout<< \"b \"<< b[0]<< \", \"<< b[1]<< std::endl; \n",
    "    std::cout<< \"Status SOURCE: \"<< status.MPI_SOURCE<< \" \";\n",
    "    std::cout<< \"Status TAG \"<< status.MPI_TAG<< std::endl;\n",
    "    \n",
    "    MPI_Finalize();\n",
    "    return 0;\n",
    "}"
   ]
  },
  {
   "cell_type": "code",
   "execution_count": 38,
   "id": "4cf53e29",
   "metadata": {
    "slideshow": {
     "slide_type": "subslide"
    }
   },
   "outputs": [
    {
     "name": "stdout",
     "output_type": "stream",
     "text": [
      "-- Configuring done\n",
      "-- Generating done\n",
      "-- Build files have been written to: /home/geoscore/Desktop/GEO++/Courses/PhdMPI/2_MPI_Communications/debug_send_recv\n",
      "Consolidate compiler generated dependencies of target 2_MPI_Communications\n",
      "[ 50%] Building CXX object CMakeFiles/2_MPI_Communications.dir/main_send_recv.cpp.o\n",
      "[100%] Linking CXX executable 2_MPI_Communications\n",
      "[100%] Built target 2_MPI_Communications\n"
     ]
    }
   ],
   "source": [
    "%%sh\n",
    "\n",
    "# compile program\n",
    "mkdir -p ./debug_send_recv\n",
    "cd debug_send_recv\n",
    "cmake -DSOURCES=\"main_send_recv.cpp\" ..\n",
    "make"
   ]
  },
  {
   "cell_type": "code",
   "execution_count": 39,
   "id": "ddc2f0b1",
   "metadata": {
    "scrolled": true,
    "slideshow": {
     "slide_type": "-"
    }
   },
   "outputs": [
    {
     "name": "stdout",
     "output_type": "stream",
     "text": [
      "Process 0 a 1.2, 3.4 b 0, 0\n",
      "Status SOURCE: -438324504 Status TAG 32513\n",
      "Process 1 a 1.2, 3.4 b 1.2, 3.4\n",
      "Status SOURCE: 0 Status TAG 10\n"
     ]
    }
   ],
   "source": [
    "%%sh\n",
    "\n",
    "# run program\n",
    "cd debug_send_recv\n",
    "mpirun -np 2 2_MPI_Communications"
   ]
  }
 ],
 "metadata": {
  "celltoolbar": "Slideshow",
  "kernelspec": {
   "display_name": "myenv",
   "language": "python",
   "name": "myenv"
  },
  "language_info": {
   "codemirror_mode": {
    "name": "ipython",
    "version": 3
   },
   "file_extension": ".py",
   "mimetype": "text/x-python",
   "name": "python",
   "nbconvert_exporter": "python",
   "pygments_lexer": "ipython3",
   "version": "3.10.4"
  }
 },
 "nbformat": 4,
 "nbformat_minor": 5
}
