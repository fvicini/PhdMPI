{
 "cells": [
  {
   "cell_type": "markdown",
   "id": "88c49911",
   "metadata": {
    "slideshow": {
     "slide_type": "notes"
    }
   },
   "source": [
    "############# Markdown note ##################\n",
    "\n",
    "<div class=\"alert alert-block alert-info\"> <b>NOTE</b> Use blue boxes for Tips and notes. </div>\n",
    "\n",
    "<div class=\"alert alert-block alert-success\"> Use green boxes sparingly, and only for some specific purpose that the other boxes can't cover. For example, if you have a lot of related content to link to, maybe you decide to use green boxes for related links from each section of a notebook. </div>\n",
    "\n",
    "<div class=\"alert alert-block alert-warning\"> Use yellow boxes for examples that are not inside code cells, or use for mathematical formulas if needed. </div>\n",
    "\n",
    "<div class=\"alert alert-block alert-danger\"> In general, just avoid the red boxes. </div>\n",
    "\n",
    "<img src=\"<path>\" width=20% style=\"margin-left:auto; margin-right:auto\">"
   ]
  },
  {
   "cell_type": "code",
   "execution_count": null,
   "id": "91509d85",
   "metadata": {
    "slideshow": {
     "slide_type": "notes"
    }
   },
   "outputs": [],
   "source": [
    "%%sh\n",
    "\n",
    "# reset all programs\n",
    "rm -rf debug*"
   ]
  },
  {
   "cell_type": "code",
   "execution_count": null,
   "id": "e368d071",
   "metadata": {
    "slideshow": {
     "slide_type": "notes"
    }
   },
   "outputs": [],
   "source": [
    "%%sh\n",
    "\n",
    "# reset all programs\n",
    "rm -rf debug*# MPI Introduction\n",
    "\n",
    "An introduction to basic concept of **Message Passing Interface** (MPI)"
   ]
  },
  {
   "cell_type": "markdown",
   "id": "371497d9",
   "metadata": {
    "slideshow": {
     "slide_type": "slide"
    }
   },
   "source": [
    "# MPI Communications\n",
    "\n",
    "Communications with **Message Passing Interface** (MPI)"
   ]
  },
  {
   "cell_type": "markdown",
   "id": "eaa628b1",
   "metadata": {
    "slideshow": {
     "slide_type": "slide"
    }
   },
   "source": [
    "## Point-to-point communications"
   ]
  },
  {
   "cell_type": "markdown",
   "id": "c7bc0407",
   "metadata": {
    "slideshow": {
     "slide_type": "subslide"
    }
   },
   "source": [
    "Basic communication method provided by MPI library - communication between 2 processes.\n",
    "\n",
    "* Source process `A` sends a **message** to destination process `B`, `B` then receives the message from `A`;\n",
    "* Communication take places within a **communicator**;\n",
    "* The processes are identified by their **rank** in the communicator.\n",
    "\n",
    "<img src=\"./Images/send.png\" width=40% style=\"margin-left:auto; margin-right:auto\">"
   ]
  },
  {
   "cell_type": "markdown",
   "id": "46158565",
   "metadata": {
    "slideshow": {
     "slide_type": "subslide"
    }
   },
   "source": [
    "### Send and Recv\n",
    "\n",
    "Calls used to send and receive a simple message.\n",
    "\n",
    "* `MPI_Send`: see https://www-lb.open-mpi.org/doc/v4.1/man3/MPI_Send.3.php\n",
    "* `MPI_Recv`: see https://www-lb.open-mpi.org/doc/v4.1/man3/MPI_Recv.3.php"
   ]
  },
  {
   "cell_type": "code",
   "execution_count": null,
   "id": "6b7dcd26",
   "metadata": {
    "slideshow": {
     "slide_type": "subslide"
    }
   },
   "outputs": [],
   "source": [
    "%%writefile main_send_recv.cpp\n",
    "\n",
    "#include <iostream>\n",
    "#include <mpi.h>\n",
    "\n",
    "int main(int argc, char **argv) \n",
    "{\n",
    "    MPI_Init(&argc, &argv);\n",
    "    \n",
    "    int process_rank;\n",
    "    MPI_Comm_rank(MPI_COMM_WORLD, &process_rank);\n",
    "    \n",
    "    int tag = 10;\n",
    "    float a[2] = { 1.2, 3.4 };\n",
    "    float b[2] = { 0.0, 0.0 } ;\n",
    "    MPI_Status status;\n",
    "    \n",
    "    if (process_rank == 0)\n",
    "        MPI_Send(&a, 2, MPI_FLOAT, 1, tag, MPI_COMM_WORLD);\n",
    "    else if (process_rank == 1)\n",
    "        MPI_Recv(&b, 2, MPI_FLOAT, 0, tag, MPI_COMM_WORLD, &status);\n",
    "\n",
    "    std::cout<< \"Process \"<< process_rank<< \" \";\n",
    "    std::cout<< \"Status SOURCE: \"<< status.MPI_SOURCE<< \" \";\n",
    "    std::cout<< \"TAG: \"<< status.MPI_TAG<< \" \";\n",
    "    std::cout<< \"ERROR: \"<< status.MPI_ERROR<< std::endl;\n",
    "    \n",
    "    std::cout<< \"Process \"<< process_rank<< \" \";\n",
    "    std::cout<< \"a \"<< a[0]<< \", \"<< a[1]<< \" \";\n",
    "    std::cout<< \"b \"<< b[0]<< \", \"<< b[1]<< std::endl; \n",
    "    \n",
    "    MPI_Finalize();\n",
    "    return 0;\n",
    "}"
   ]
  },
  {
   "cell_type": "code",
   "execution_count": null,
   "id": "4cf53e29",
   "metadata": {
    "slideshow": {
     "slide_type": "subslide"
    }
   },
   "outputs": [],
   "source": [
    "%%sh\n",
    "\n",
    "# compile program\n",
    "mkdir -p ./debug_send_recv\n",
    "cd debug_send_recv\n",
    "cmake -DSOURCES=\"main_send_recv.cpp\" ..\n",
    "make"
   ]
  },
  {
   "cell_type": "code",
   "execution_count": null,
   "id": "ddc2f0b1",
   "metadata": {
    "slideshow": {
     "slide_type": "-"
    }
   },
   "outputs": [],
   "source": [
    "%%sh\n",
    "\n",
    "# run program\n",
    "cd debug_send_recv\n",
    "mpirun -np 2 2_MPI_Communications"
   ]
  },
  {
   "cell_type": "markdown",
   "id": "bfac7e79",
   "metadata": {
    "slideshow": {
     "slide_type": "-"
    }
   },
   "source": [
    "<div class=\"alert alert-block alert-warning\"> <b>NOTE</b>: the use of the IF statements - remember each task runs exactly the same program. </div>"
   ]
  },
  {
   "cell_type": "markdown",
   "id": "65786f9b",
   "metadata": {
    "slideshow": {
     "slide_type": "subslide"
    }
   },
   "source": [
    "## Message\n",
    "\n",
    "Composed by a **buffer** and an **envelope**.\n",
    " \n",
    "* Data is exchanged in the buffer, an array of count elements of some particular **MPI data type**;\n",
    "* The envelope identifies the message. A message could be exchanged **only if** the sender and receiver specify the correct envelope.\n",
    "\n",
    "<img src=\"./Images/message.png\" width=60% style=\"margin-left:auto; margin-right:auto\">"
   ]
  },
  {
   "cell_type": "markdown",
   "id": "60c55fbd",
   "metadata": {
    "slideshow": {
     "slide_type": "subslide"
    }
   },
   "source": [
    "## DataTypes\n",
    "\n",
    "MPI Data types can be:\n",
    "* Basic types\n",
    "* Derived types (`MPI_Type_xxx` functions)\n",
    "\n",
    "<div class=\"alert alert-block alert-info\"> <b>NOTE</b>: a derived type can be built up from basic types. </div>\n",
    "\n",
    "MPI defines **handles** to allow programmers to refer to data types and structures\n",
    "\n",
    "<div class=\"alert alert-block alert-warning\"> C/C++ handles are macros to structs (<code>#define MPI_INT</code> …) </div>"
   ]
  },
  {
   "cell_type": "markdown",
   "id": "fd5a0b6e",
   "metadata": {
    "slideshow": {
     "slide_type": "subslide"
    }
   },
   "source": [
    "### C/C++ MPI Data Types\n",
    "\n",
    "<img src=\"./Images/types.png\" width=90% style=\"margin-left:auto; margin-right:auto\">"
   ]
  },
  {
   "cell_type": "markdown",
   "id": "6995845c",
   "metadata": {
    "slideshow": {
     "slide_type": "subslide"
    }
   },
   "source": [
    "DataTypes can be created with different MPI routines, for example:\n",
    "\n",
    "* `MPI_Pack`: https://www.open-mpi.org/doc/v4.1/man3/MPI_Pack.3.php\n",
    "* `MPI_Type_create_struct`: https://www.open-mpi.org/doc/v4.1/man3/MPI_Type_create_struct.3.php\n",
    "* ...\n",
    "\n",
    "<div class=\"alert alert-block alert-success\"> Before using a new DataType, we shall <b>commit</b> it. </div>\n",
    "\n",
    "* `MPI_Type_commit`: https://www.open-mpi.org/doc/v4.1/man3/MPI_Type_commit.3.php\n",
    "\n",
    "<div class=\"alert alert-block alert-danger\"> <b>REMARK</b>: Once a new data type is created we shall <b>destroy</b> it before closing the application:</div>\n",
    "\n",
    "* `MPI_Type_free`: https://www.open-mpi.org/doc/v4.1/man3/MPI_Type_free.3.php\n",
    "\n",
    "<div class=\"alert alert-block alert-info\"> <b>NOTE</b>: We are going to see more about data types when we are going to see <b>advanced</b> data types. </div>"
   ]
  },
  {
   "cell_type": "code",
   "execution_count": null,
   "id": "aabfd9fc",
   "metadata": {
    "slideshow": {
     "slide_type": "subslide"
    }
   },
   "outputs": [],
   "source": [
    "%%writefile main_struct.cpp\n",
    "\n",
    "#include <iostream>\n",
    "#include <mpi.h>\n",
    "\n",
    "struct Car \n",
    "{\n",
    "    int Model;\n",
    "    int Color;\n",
    "};\n",
    "\n",
    "int main(int argc, char **argv) \n",
    "{\n",
    "    MPI_Init(&argc, &argv);\n",
    "\n",
    "    const int tag = 13;\n",
    "    int size, rank;\n",
    "    MPI_Comm_size(MPI_COMM_WORLD, &size);\n",
    "    MPI_Comm_rank(MPI_COMM_WORLD, &rank);\n",
    "\n",
    "    // create a MPI type for struct Car\n",
    "    const int nitems = 2; // number of struct fields\n",
    "    int blocklengths[nitems] = { 1, 1 }; // lengths of types for each struct field\n",
    "    MPI_Datatype types[nitems] = { MPI_INT, MPI_INT }; // MPI types of each struct field\n",
    "    MPI_Datatype mpi_car_type; // the new MPI dataType\n",
    "    MPI_Aint offsets[nitems]; // offset computed directly from fields\n",
    "\n",
    "    offsets[0] = offsetof(Car, Model);\n",
    "    offsets[1] = offsetof(Car, Color);\n",
    "\n",
    "    // create the new dataType\n",
    "    MPI_Type_create_struct(nitems, blocklengths, offsets, types, &mpi_car_type);\n",
    "    MPI_Type_commit(&mpi_car_type); // commit operation\n",
    "\n",
    "    Car car = { 0, 0 };\n",
    "    \n",
    "    if (rank == 0) \n",
    "    {\n",
    "        car.Model = 4;\n",
    "        car.Color = 100;\n",
    "\n",
    "        MPI_Send(&car, 1, mpi_car_type, 1, tag, MPI_COMM_WORLD);\n",
    "\n",
    "        std::cout<< \"Process \"<< rank<< \": sent structure car\"<< std::endl;\n",
    "    }\n",
    "    else if (rank == 1) \n",
    "    {\n",
    "        MPI_Status status;\n",
    "        MPI_Recv(&car, 1, mpi_car_type, 0, tag, MPI_COMM_WORLD, &status);\n",
    "        std::cout<< \"Process \"<< rank<< \": recv structure car\"<< std::endl;\n",
    "    }\n",
    "    \n",
    "    std::cout<< \"Process \"<< rank<< \": car.Model \"<< car.Model<< \" car.Color \"<< car.Color<< std::endl;\n",
    "\n",
    "    MPI_Type_free(&mpi_car_type); // destroy operation\n",
    "\n",
    "    MPI_Finalize();\n",
    "    return 0;\n",
    "}"
   ]
  },
  {
   "cell_type": "code",
   "execution_count": null,
   "id": "ba43a365",
   "metadata": {
    "slideshow": {
     "slide_type": "subslide"
    }
   },
   "outputs": [],
   "source": [
    "%%sh\n",
    "\n",
    "# compile program\n",
    "mkdir -p ./debug_struct\n",
    "cd debug_struct\n",
    "cmake -DSOURCES=\"main_struct.cpp\" ..\n",
    "make"
   ]
  },
  {
   "cell_type": "code",
   "execution_count": null,
   "id": "9134b4b6",
   "metadata": {
    "slideshow": {
     "slide_type": "-"
    }
   },
   "outputs": [],
   "source": [
    "%%sh\n",
    "\n",
    "# run program\n",
    "cd debug_struct\n",
    "mpirun -np 3 2_MPI_Communications"
   ]
  },
  {
   "cell_type": "markdown",
   "id": "ea173334",
   "metadata": {
    "slideshow": {
     "slide_type": "subslide"
    }
   },
   "source": [
    "## More about communications...\n",
    "\n",
    "For a communication to succeed:\n",
    "\n",
    "1. Always specify a **valid** sorce/destination rank in the communicator;\n",
    "3. The communicator must be **the same**;\n",
    "4. Tags must **match**;\n",
    "5. Buffers must be **large enough**!\n",
    "\n",
    "<div class=\"alert alert-block alert-danger\">Check very carefully all the arguments - the command may succeed but with wrong data. </div>\n",
    "\n",
    "In a perfect world, every send operation would be perfectly synchronized with its matching receive. \n",
    "This is **rarely** the case.\n",
    "\n",
    "<div class=\"alert alert-block alert-success\">The MPI implementation is able to deal with storing data when the two tasks are out of sync. </div>"
   ]
  },
  {
   "cell_type": "markdown",
   "id": "1493b3e0",
   "metadata": {
    "slideshow": {
     "slide_type": "slide"
    }
   },
   "source": [
    "## Blocking and Non-blocking communications"
   ]
  },
  {
   "cell_type": "markdown",
   "id": "e446e372",
   "metadata": {
    "slideshow": {
     "slide_type": "subslide"
    }
   },
   "source": [
    "MPI point-to-point routines can be used in either **blocking** or **non-blocking** mode.\n",
    "\n",
    "<div class=\"alert alert-block alert-info\"> Non-blocking communications are identified by prefix <code>I</code></div>\n",
    "\n",
    "<img src=\"./Images/non_block.png\" width=90% style=\"margin-left:auto; margin-right:auto\">\n",
    "\n",
    "<div class=\"alert alert-block alert-warning\"><b>NOTE</b>: Not always possible but worth trying - depends how much\n",
    "calculation can be done which does not require the transferred data.</div>"
   ]
  },
  {
   "cell_type": "markdown",
   "id": "1e46e9a9",
   "metadata": {
    "slideshow": {
     "slide_type": "subslide"
    }
   },
   "source": [
    "### Isend and Irecv\n",
    "\n",
    "Calls used to send and receive a non-blocking message.\n",
    "\n",
    "* `MPI_Isend`: see https://www.open-mpi.org/doc/v4.1/man3/MPI_Isend.3.php\n",
    "* `MPI_Irecv`: see https://www.open-mpi.org/doc/v4.1/man3/MPI_Irecv.3.php\n",
    "\n",
    "<div class=\"alert alert-block alert-danger\"> <b>REMARK</b>: we should <b>wait</b> for completing each non-blocking operation:</div>\n",
    "\n",
    "* `MPI_Wait`: https://www.open-mpi.org/doc/v4.1/man3/MPI_Wait.3.php\n",
    "* `MPI_Waitall`: https://www.open-mpi.org/doc/v4.1/man3/MPI_Waitall.3.php\n",
    "* ..."
   ]
  },
  {
   "cell_type": "code",
   "execution_count": null,
   "id": "99d3102a",
   "metadata": {
    "slideshow": {
     "slide_type": "subslide"
    }
   },
   "outputs": [],
   "source": [
    "%%writefile main_isend_irecv.cpp\n",
    "\n",
    "#include <iostream>\n",
    "#include <mpi.h>\n",
    "\n",
    "int main(int argc, char **argv) \n",
    "{\n",
    "    MPI_Init(&argc, &argv);\n",
    "    \n",
    "    int process_rank;\n",
    "    MPI_Comm_rank(MPI_COMM_WORLD, &process_rank);\n",
    "    \n",
    "    int tag = 10;\n",
    "    float a[2] = { 0.0, 0.0 };\n",
    "    float b[2] = { 0.0, 0.0 };\n",
    "    MPI_Status status[2];\n",
    "    MPI_Request request[2];\n",
    "    \n",
    "    if (process_rank == 0)\n",
    "    {\n",
    "        a[0] = 1.0; a[1] = 2.0;\n",
    "        MPI_Irecv(&b, 2, MPI_FLOAT, 1, tag + 1, MPI_COMM_WORLD, &request[1]);\n",
    "        MPI_Isend(&a, 2, MPI_FLOAT, 1, tag, MPI_COMM_WORLD, &request[0]);\n",
    "    }\n",
    "    else if (process_rank == 1)\n",
    "    {\n",
    "        b[0] = 3.0; b[1] = 4.0;\n",
    "        MPI_Irecv(&a, 2, MPI_FLOAT, 0, tag, MPI_COMM_WORLD, &request[1]);\n",
    "        MPI_Isend(&b, 2, MPI_FLOAT, 0, tag + 1, MPI_COMM_WORLD, &request[0]);\n",
    "    }\n",
    "\n",
    "    std::cout<< \"Process \"<< process_rank<< \" waiting...\"<< std::endl;\n",
    "    \n",
    "    MPI_Wait(&request[0], &status[0]);\n",
    "    MPI_Wait(&request[1], &status[1]);\n",
    "    //MPI_Waitall(2, request, status); // alternative\n",
    "    \n",
    "    std::cout<< \"Process \"<< process_rank<< \" \";\n",
    "    std::cout<< \"Status[0] SOURCE: \"<< status[0].MPI_SOURCE<< \" \";\n",
    "    std::cout<< \"TAG: \"<< status[0].MPI_TAG<< \" \";\n",
    "    std::cout<< \"ERROR: \"<< status[0].MPI_ERROR<< std::endl;\n",
    "    \n",
    "    std::cout<< \"Process \"<< process_rank<< \" \";\n",
    "    std::cout<< \"Status[1] SOURCE: \"<< status[1].MPI_SOURCE<< \" \";\n",
    "    std::cout<< \"TAG: \"<< status[1].MPI_TAG<< \" \";\n",
    "    std::cout<< \"ERROR: \"<< status[1].MPI_ERROR<< std::endl;\n",
    "    \n",
    "    std::cout<< \"Process \"<< process_rank<< \" \";\n",
    "    std::cout<< \"a \"<< a[0]<< \", \"<< a[1]<< \" \";\n",
    "    std::cout<< \"b \"<< b[0]<< \", \"<< b[1]<< std::endl; \n",
    "    \n",
    "    MPI_Finalize();\n",
    "    return 0;\n",
    "}"
   ]
  },
  {
   "cell_type": "code",
   "execution_count": null,
   "id": "377db4b1",
   "metadata": {
    "slideshow": {
     "slide_type": "subslide"
    }
   },
   "outputs": [],
   "source": [
    "%%sh\n",
    "\n",
    "# compile program\n",
    "mkdir -p ./debug_isend_irecv\n",
    "cd debug_isend_irecv\n",
    "cmake -DSOURCES=\"main_isend_irecv.cpp\" ..\n",
    "make"
   ]
  },
  {
   "cell_type": "code",
   "execution_count": null,
   "id": "7994fd2a",
   "metadata": {
    "slideshow": {
     "slide_type": "-"
    }
   },
   "outputs": [],
   "source": [
    "%%sh\n",
    "\n",
    "# run program\n",
    "cd debug_isend_irecv\n",
    "mpirun -np 2 2_MPI_Communications"
   ]
  },
  {
   "cell_type": "markdown",
   "id": "a1d2fdb2",
   "metadata": {
    "slideshow": {
     "slide_type": "subslide"
    }
   },
   "source": [
    "## Deadlock\n",
    "\n",
    "A **Deadlock** or a *Race condition* occurs when $2$ (or more) processes are **blocked**, and each is waiting\n",
    "for the other to make progress.\n",
    "\n",
    "<img src=\"./Images/deadlock.png\" width=60% style=\"margin-left:auto; margin-right:auto\">\n",
    "\n",
    "<div class=\"alert alert-block alert-warning\"><b>NOTE</b>: the allocated time (and budget) may expire but <b>no work</b> is done.</div>"
   ]
  },
  {
   "cell_type": "code",
   "execution_count": null,
   "id": "db224f1b",
   "metadata": {
    "slideshow": {
     "slide_type": "subslide"
    }
   },
   "outputs": [],
   "source": [
    "%%writefile main_deadlock.cpp\n",
    "\n",
    "#include <iostream>\n",
    "#include <mpi.h>\n",
    "\n",
    "int main(int argc, char **argv) \n",
    "{\n",
    "    MPI_Init(&argc, &argv);\n",
    "    \n",
    "    int process_rank;\n",
    "    MPI_Comm_rank(MPI_COMM_WORLD, &process_rank);\n",
    "    \n",
    "    int tag = 10;\n",
    "    float a[2] = { 0.0, 0.0 };\n",
    "    float b[2] = { 0.0, 0.0 };\n",
    "    MPI_Status status;\n",
    "    \n",
    "    if (process_rank == 0)\n",
    "    {\n",
    "        a[0] = 1.0; a[1] = 2.0;\n",
    "        MPI_Recv(&b, 2, MPI_FLOAT, 1, tag + 1, MPI_COMM_WORLD, &status);\n",
    "        MPI_Send(&a, 2, MPI_FLOAT, 1, tag, MPI_COMM_WORLD);\n",
    "    }\n",
    "    else if (process_rank == 1)\n",
    "    {\n",
    "        b[0] = 3.0; b[1] = 4.0;\n",
    "        MPI_Recv(&a, 2, MPI_FLOAT, 0, tag, MPI_COMM_WORLD, &status);\n",
    "        MPI_Send(&b, 2, MPI_FLOAT, 0, tag + 1, MPI_COMM_WORLD);\n",
    "    }\n",
    "        \n",
    "    std::cout<< \"Process \"<< process_rank<< \" \";\n",
    "    std::cout<< \"Status SOURCE: \"<< status.MPI_SOURCE<< \" \";\n",
    "    std::cout<< \"TAG: \"<< status.MPI_TAG<< \" \";\n",
    "    std::cout<< \"ERROR: \"<< status.MPI_ERROR<< std::endl;\n",
    "        \n",
    "    std::cout<< \"Process \"<< process_rank<< \" \";\n",
    "    std::cout<< \"a \"<< a[0]<< \", \"<< a[1]<< \" \";\n",
    "    std::cout<< \"b \"<< b[0]<< \", \"<< b[1]<< std::endl; \n",
    "    \n",
    "    MPI_Finalize();\n",
    "    return 0;\n",
    "}"
   ]
  },
  {
   "cell_type": "code",
   "execution_count": null,
   "id": "ee4faf41",
   "metadata": {
    "slideshow": {
     "slide_type": "subslide"
    }
   },
   "outputs": [],
   "source": [
    "%%sh\n",
    "\n",
    "# compile program\n",
    "mkdir -p ./debug_deadlock\n",
    "cd debug_deadlock\n",
    "cmake -DSOURCES=\"main_deadlock.cpp\" ..\n",
    "make"
   ]
  },
  {
   "cell_type": "code",
   "execution_count": null,
   "id": "b7d5b5a4",
   "metadata": {
    "slideshow": {
     "slide_type": "-"
    }
   },
   "outputs": [],
   "source": [
    "%%sh\n",
    "\n",
    "# run program\n",
    "cd debug_deadlock\n",
    "mpirun -np 2 2_MPI_Communications"
   ]
  }
 ],
 "metadata": {
  "celltoolbar": "Slideshow",
  "kernelspec": {
   "display_name": "myenv",
   "language": "python",
   "name": "myenv"
  },
  "language_info": {
   "codemirror_mode": {
    "name": "ipython",
    "version": 3
   },
   "file_extension": ".py",
   "mimetype": "text/x-python",
   "name": "python",
   "nbconvert_exporter": "python",
   "pygments_lexer": "ipython3",
   "version": "3.10.4"
  }
 },
 "nbformat": 4,
 "nbformat_minor": 5
}
