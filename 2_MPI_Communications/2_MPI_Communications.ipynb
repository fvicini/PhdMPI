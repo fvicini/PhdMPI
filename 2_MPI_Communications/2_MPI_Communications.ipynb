{
 "cells": [
  {
   "cell_type": "markdown",
   "id": "88c49911",
   "metadata": {
    "slideshow": {
     "slide_type": "notes"
    }
   },
   "source": [
    "############# Markdown note ##################\n",
    "\n",
    "<div class=\"alert alert-block alert-info\"> <b>NOTE</b> Use blue boxes for Tips and notes. </div>\n",
    "\n",
    "<div class=\"alert alert-block alert-success\"> Use green boxes sparingly, and only for some specific purpose that the other boxes can't cover. For example, if you have a lot of related content to link to, maybe you decide to use green boxes for related links from each section of a notebook. </div>\n",
    "\n",
    "<div class=\"alert alert-block alert-warning\"> Use yellow boxes for examples that are not inside code cells, or use for mathematical formulas if needed. </div>\n",
    "\n",
    "<div class=\"alert alert-block alert-danger\"> In general, just avoid the red boxes. </div>\n",
    "\n",
    "<img src=\"<path>\" width=20% style=\"margin-left:auto; margin-right:auto\">"
   ]
  },
  {
   "cell_type": "code",
   "execution_count": 1,
   "id": "91509d85",
   "metadata": {
    "slideshow": {
     "slide_type": "notes"
    }
   },
   "outputs": [],
   "source": [
    "%%sh\n",
    "\n",
    "# reset all programs\n",
    "rm -rf debug*# MPI Introduction\n",
    "\n",
    "An introduction to basic concept of **Message Passing Interface** (MPI)"
   ]
  },
  {
   "cell_type": "markdown",
   "id": "371497d9",
   "metadata": {
    "slideshow": {
     "slide_type": "slide"
    }
   },
   "source": [
    "# MPI Communications\n",
    "\n",
    "Communications with **Message Passing Interface** (MPI)"
   ]
  },
  {
   "cell_type": "markdown",
   "id": "eaa628b1",
   "metadata": {
    "slideshow": {
     "slide_type": "slide"
    }
   },
   "source": [
    "## Point-to-point communications"
   ]
  },
  {
   "cell_type": "markdown",
   "id": "c7bc0407",
   "metadata": {
    "slideshow": {
     "slide_type": "subslide"
    }
   },
   "source": [
    "Basic communication method provided by MPI library - communication between 2 processes.\n",
    "\n",
    "* Source process `A` sends a **message** to destination process `B`, `B` then receives the message from `A`;\n",
    "* Communication take places within a **communicator**;\n",
    "* The processes are identified by their **rank** in the communicator.\n",
    "\n",
    "<img src=\"./Images/send.png\" width=40% style=\"margin-left:auto; margin-right:auto\">"
   ]
  },
  {
   "cell_type": "markdown",
   "id": "46158565",
   "metadata": {
    "slideshow": {
     "slide_type": "subslide"
    }
   },
   "source": [
    "### Send and Recv\n",
    "\n",
    "Calls used to send and receive a simple message.\n",
    "\n",
    "* `MPI_Send`: see https://www-lb.open-mpi.org/doc/v4.1/man3/MPI_Send.3.php\n",
    "* `MPI_Recv`: see https://www-lb.open-mpi.org/doc/v4.1/man3/MPI_Recv.3.php"
   ]
  },
  {
   "cell_type": "code",
   "execution_count": 37,
   "id": "6b7dcd26",
   "metadata": {
    "slideshow": {
     "slide_type": "subslide"
    }
   },
   "outputs": [
    {
     "name": "stdout",
     "output_type": "stream",
     "text": [
      "Overwriting main_send_recv.cpp\n"
     ]
    }
   ],
   "source": [
    "%%writefile main_send_recv.cpp\n",
    "\n",
    "#include <iostream>\n",
    "#include <mpi.h>\n",
    "\n",
    "int main(int argc, char **argv) \n",
    "{\n",
    "    MPI_Init(&argc, &argv);\n",
    "    \n",
    "    int process_rank;\n",
    "    MPI_Comm_rank(MPI_COMM_WORLD, &process_rank);\n",
    "    \n",
    "    int tag = 10;\n",
    "    float a[2] = { 1.2, 3.4 };\n",
    "    float b[2] = { 0.0, 0.0 } ;\n",
    "    MPI_Status status;\n",
    "    \n",
    "    if (process_rank == 0)\n",
    "        MPI_Send(&a, 2, MPI_FLOAT, 1, tag, MPI_COMM_WORLD);\n",
    "    else if (process_rank == 1)\n",
    "        MPI_Recv(&b, 2, MPI_FLOAT, 0, tag, MPI_COMM_WORLD, &status);\n",
    "\n",
    "    std::cout<< \"Process \"<< process_rank<< \" \";\n",
    "    std::cout<< \"a \"<< a[0]<< \", \"<< a[1]<< \" \";\n",
    "    std::cout<< \"b \"<< b[0]<< \", \"<< b[1]<< std::endl; \n",
    "    std::cout<< \"Status SOURCE: \"<< status.MPI_SOURCE<< \" \";\n",
    "    std::cout<< \"Status TAG \"<< status.MPI_TAG<< std::endl;\n",
    "    \n",
    "    MPI_Finalize();\n",
    "    return 0;\n",
    "}"
   ]
  },
  {
   "cell_type": "code",
   "execution_count": 38,
   "id": "4cf53e29",
   "metadata": {
    "collapsed": true,
    "slideshow": {
     "slide_type": "subslide"
    }
   },
   "outputs": [
    {
     "name": "stdout",
     "output_type": "stream",
     "text": [
      "-- Configuring done\n",
      "-- Generating done\n",
      "-- Build files have been written to: /home/geoscore/Desktop/GEO++/Courses/PhdMPI/2_MPI_Communications/debug_send_recv\n",
      "Consolidate compiler generated dependencies of target 2_MPI_Communications\n",
      "[ 50%] Building CXX object CMakeFiles/2_MPI_Communications.dir/main_send_recv.cpp.o\n",
      "[100%] Linking CXX executable 2_MPI_Communications\n",
      "[100%] Built target 2_MPI_Communications\n"
     ]
    }
   ],
   "source": [
    "%%sh\n",
    "\n",
    "# compile program\n",
    "mkdir -p ./debug_send_recv\n",
    "cd debug_send_recv\n",
    "cmake -DSOURCES=\"main_send_recv.cpp\" ..\n",
    "make"
   ]
  },
  {
   "cell_type": "code",
   "execution_count": 39,
   "id": "ddc2f0b1",
   "metadata": {
    "slideshow": {
     "slide_type": "-"
    }
   },
   "outputs": [
    {
     "name": "stdout",
     "output_type": "stream",
     "text": [
      "Process 0 a 1.2, 3.4 b 0, 0\n",
      "Status SOURCE: -438324504 Status TAG 32513\n",
      "Process 1 a 1.2, 3.4 b 1.2, 3.4\n",
      "Status SOURCE: 0 Status TAG 10\n"
     ]
    }
   ],
   "source": [
    "%%sh\n",
    "\n",
    "# run program\n",
    "cd debug_send_recv\n",
    "mpirun -np 2 2_MPI_Communications"
   ]
  },
  {
   "cell_type": "markdown",
   "id": "bfac7e79",
   "metadata": {
    "slideshow": {
     "slide_type": "-"
    }
   },
   "source": [
    "<div class=\"alert alert-block alert-warning\"> <b>NOTE</b>: the use of the IF statements - remember each task runs exactly the same program. </div>"
   ]
  },
  {
   "cell_type": "markdown",
   "id": "65786f9b",
   "metadata": {
    "slideshow": {
     "slide_type": "subslide"
    }
   },
   "source": [
    "## Message\n",
    "\n",
    "Composed by a **buffer** and an **envelope**.\n",
    " \n",
    "* Data is exchanged in the buffer, an array of count elements of some particular **MPI data type**;\n",
    "* The envelope identifies the message. A message could be exchanged **only if** the sender and receiver specify the correct envelope.\n",
    "\n",
    "<img src=\"./Images/message.png\" width=60% style=\"margin-left:auto; margin-right:auto\">"
   ]
  },
  {
   "cell_type": "markdown",
   "id": "60c55fbd",
   "metadata": {
    "slideshow": {
     "slide_type": "subslide"
    }
   },
   "source": [
    "## DataTypes\n",
    "\n",
    "MPI Data types can be:\n",
    "* Basic types\n",
    "* Derived types (`MPI_Type_xxx` functions)\n",
    "\n",
    "<div class=\"alert alert-block alert-info\"> <b>NOTE</b>: a derived type can be built up from basic types. </div>\n",
    "\n",
    "MPI defines **handles** to allow programmers to refer to data types and structures\n",
    "\n",
    "<div class=\"alert alert-block alert-warning\"> C/C++ handles are macros to structs (<code>#define MPI_INT</code> …) </div>"
   ]
  },
  {
   "cell_type": "markdown",
   "id": "fd5a0b6e",
   "metadata": {
    "slideshow": {
     "slide_type": "subslide"
    }
   },
   "source": [
    "### C/C++ MPI Data Types\n",
    "\n",
    "<img src=\"./Images/types.png\" width=90% style=\"margin-left:auto; margin-right:auto\">"
   ]
  },
  {
   "cell_type": "markdown",
   "id": "6995845c",
   "metadata": {
    "slideshow": {
     "slide_type": "subslide"
    }
   },
   "source": [
    "DataTypes can be created with different MPI routines, for example:\n",
    "\n",
    "* `MPI_Pack`: https://www.open-mpi.org/doc/v4.1/man3/MPI_Pack.3.php\n",
    "* `MPI_Type_create_struct`: https://www.open-mpi.org/doc/v4.1/man3/MPI_Type_create_struct.3.php\n",
    "* ...\n",
    "\n",
    "<div class=\"alert alert-block alert-success\"> Before using a new DataType, we shall <b>commit</b> it. </div>\n",
    "\n",
    "* `MPI_Type_commit`: https://www.open-mpi.org/doc/v4.1/man3/MPI_Type_commit.3.php\n",
    "\n",
    "<div class=\"alert alert-block alert-danger\"> <b>REMARK</b>: Once a new data type is created we shall <b>destroy</b> it before closing the application:</div>\n",
    "\n",
    "* `MPI_Type_free`: https://www.open-mpi.org/doc/v4.1/man3/MPI_Type_free.3.php\n",
    "\n",
    "<div class=\"alert alert-block alert-info\"> <b>NOTE</b>: We are going to see more about data types when we are going to see <b>advanced</b> data types. </div>"
   ]
  },
  {
   "cell_type": "code",
   "execution_count": 1,
   "id": "aabfd9fc",
   "metadata": {
    "slideshow": {
     "slide_type": "subslide"
    }
   },
   "outputs": [
    {
     "name": "stdout",
     "output_type": "stream",
     "text": [
      "Overwriting main_struct.cpp\n"
     ]
    }
   ],
   "source": [
    "%%writefile main_struct.cpp\n",
    "\n",
    "#include <iostream>\n",
    "#include <mpi.h>\n",
    "\n",
    "struct Car \n",
    "{\n",
    "    int Model;\n",
    "    int Color;\n",
    "};\n",
    "\n",
    "int main(int argc, char **argv) \n",
    "{\n",
    "    MPI_Init(&argc, &argv);\n",
    "\n",
    "    const int tag = 13;\n",
    "    int size, rank;\n",
    "    MPI_Comm_size(MPI_COMM_WORLD, &size);\n",
    "    MPI_Comm_rank(MPI_COMM_WORLD, &rank);\n",
    "\n",
    "    // create a MPI type for struct Car\n",
    "    const int nitems = 2; // number of struct fields\n",
    "    int blocklengths[nitems] = { 1, 1 }; // lengths of types for each struct field\n",
    "    MPI_Datatype types[nitems] = { MPI_INT, MPI_INT }; // MPI types of each struct field\n",
    "    MPI_Datatype mpi_car_type; // the new MPI dataType\n",
    "    MPI_Aint offsets[nitems]; // offset computed directly from fields\n",
    "\n",
    "    offsets[0] = offsetof(Car, Model);\n",
    "    offsets[1] = offsetof(Car, Color);\n",
    "\n",
    "    // create the new dataType\n",
    "    MPI_Type_create_struct(nitems, blocklengths, offsets, types, &mpi_car_type);\n",
    "    MPI_Type_commit(&mpi_car_type); // commit operation\n",
    "\n",
    "    Car car = { 0, 0 };\n",
    "    \n",
    "    if (rank == 0) \n",
    "    {\n",
    "        car.Model = 4;\n",
    "        car.Color = 100;\n",
    "\n",
    "        MPI_Send(&car, 1, mpi_car_type, 1, tag, MPI_COMM_WORLD);\n",
    "\n",
    "        std::cout<< \"Process \"<< rank<< \": sent structure car\"<< std::endl;\n",
    "    }\n",
    "    else if (rank == 1) \n",
    "    {\n",
    "        MPI_Status status;\n",
    "        MPI_Recv(&car, 1, mpi_car_type, 0, tag, MPI_COMM_WORLD, &status);\n",
    "        std::cout<< \"Process \"<< rank<< \": recv structure car\"<< std::endl;\n",
    "    }\n",
    "    \n",
    "    std::cout<< \"Process \"<< rank<< \": car.Model \"<< car.Model<< \" car.Color \"<< car.Color<< std::endl;\n",
    "\n",
    "    MPI_Type_free(&mpi_car_type); // destroy operation\n",
    "\n",
    "    MPI_Finalize();\n",
    "    return 0;\n",
    "}"
   ]
  },
  {
   "cell_type": "code",
   "execution_count": 2,
   "id": "ba43a365",
   "metadata": {
    "slideshow": {
     "slide_type": "subslide"
    }
   },
   "outputs": [
    {
     "name": "stdout",
     "output_type": "stream",
     "text": [
      "-- Configuring done\n",
      "-- Generating done\n",
      "-- Build files have been written to: /home/geoscore/Desktop/GEO++/Courses/PhdMPI/2_MPI_Communications/debug_struct\n",
      "Consolidate compiler generated dependencies of target 2_MPI_Communications\n",
      "[ 50%] Building CXX object CMakeFiles/2_MPI_Communications.dir/main_struct.cpp.o\n",
      "[100%] Linking CXX executable 2_MPI_Communications\n",
      "[100%] Built target 2_MPI_Communications\n"
     ]
    }
   ],
   "source": [
    "%%sh\n",
    "\n",
    "# compile program\n",
    "mkdir -p ./debug_struct\n",
    "cd debug_struct\n",
    "cmake -DSOURCES=\"main_struct.cpp\" ..\n",
    "make"
   ]
  },
  {
   "cell_type": "code",
   "execution_count": 3,
   "id": "9134b4b6",
   "metadata": {
    "slideshow": {
     "slide_type": "-"
    }
   },
   "outputs": [
    {
     "name": "stdout",
     "output_type": "stream",
     "text": [
      "Process 0: sent structure car\n",
      "Process 0: car.Model 4 car.Color 100\n",
      "Process 2: car.Model 0 car.Color 0\n",
      "Process 1: recv structure car\n",
      "Process 1: car.Model 4 car.Color 100\n"
     ]
    }
   ],
   "source": [
    "%%sh\n",
    "\n",
    "# run program\n",
    "cd debug_struct\n",
    "mpirun -np 3 2_MPI_Communications"
   ]
  }
 ],
 "metadata": {
  "celltoolbar": "Slideshow",
  "kernelspec": {
   "display_name": "myenv",
   "language": "python",
   "name": "myenv"
  },
  "language_info": {
   "codemirror_mode": {
    "name": "ipython",
    "version": 3
   },
   "file_extension": ".py",
   "mimetype": "text/x-python",
   "name": "python",
   "nbconvert_exporter": "python",
   "pygments_lexer": "ipython3",
   "version": "3.10.4"
  }
 },
 "nbformat": 4,
 "nbformat_minor": 5
}
