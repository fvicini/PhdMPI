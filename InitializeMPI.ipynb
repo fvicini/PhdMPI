{
 "cells": [
  {
   "cell_type": "markdown",
   "id": "1b391923-374a-4dbd-ab12-fb0d432e79ca",
   "metadata": {},
   "source": [
    "# MPI environment creation"
   ]
  },
  {
   "cell_type": "markdown",
   "id": "7de910e2-e67e-4562-b682-82f62f28da78",
   "metadata": {},
   "source": [
    "## MPI environment instructions"
   ]
  },
  {
   "cell_type": "markdown",
   "id": "d2e158db-982f-4b04-93b2-01d2d462b5ee",
   "metadata": {},
   "source": [
    "To perform the next steps conda package shall be installed.\n",
    "\n",
    "The following steps are use to create an MPI container in which run all the examples:"
   ]
  },
  {
   "cell_type": "code",
   "execution_count": null,
   "id": "3d78d232-c914-4893-8e15-d0afed531cf4",
   "metadata": {},
   "outputs": [],
   "source": [
    "%%sh\n",
    "\n",
    "conda create --prefix ./myenv # create the conda environment\n",
    "conda activate myenv/ # activate the environment\n",
    "conda install -c conda-forge gcc # install gcc compiler\n",
    "conda install -c conda-forge gxx # install g++ compiler\n",
    "conda install -c conda-forge openmpi # install the mpic++ compiler\n",
    "conda install -c anaconda cmake # install the cmake\n",
    "conda deactivate # to deactivate the kernel"
   ]
  },
  {
   "cell_type": "markdown",
   "id": "a6aeca84-8c67-4aff-8adb-dcc550fea3cf",
   "metadata": {},
   "source": [
    "To use conda from Jupyter notebook follow the steps:"
   ]
  },
  {
   "cell_type": "code",
   "execution_count": null,
   "id": "b0630834-b337-49bf-b10d-d6dc8101584d",
   "metadata": {},
   "outputs": [],
   "source": [
    "%%sh\n",
    "\n",
    "conda activate ./myenv # activate the environment\n",
    "conda install -c anaconda ipykernel # install the jypter kernel inside the environment\n",
    "python -m ipykernel install --user --name=myenv # create python conda virtual environment to use\n",
    "pip install jupyter\n",
    "pip install notebook"
   ]
  },
  {
   "cell_type": "markdown",
   "id": "84486ff9-0999-4cba-b6a5-1d67f835886a",
   "metadata": {},
   "source": [
    "## MPI environment test"
   ]
  },
  {
   "cell_type": "markdown",
   "id": "c010b757",
   "metadata": {},
   "source": [
    "Check the MPI version installed"
   ]
  },
  {
   "cell_type": "code",
   "execution_count": null,
   "id": "4c4ef63d",
   "metadata": {},
   "outputs": [],
   "source": [
    "%%sh\n",
    "mpic++ --version"
   ]
  },
  {
   "cell_type": "markdown",
   "id": "aeff46f2",
   "metadata": {},
   "source": [
    "Compile the FirstExample"
   ]
  },
  {
   "cell_type": "code",
   "execution_count": null,
   "id": "80b6df71-f84a-46a1-a5da-713db78b2857",
   "metadata": {
    "scrolled": true
   },
   "outputs": [],
   "source": [
    "%%sh\n",
    "cd ./FirstExample\n",
    "mkdir -p Debug\n",
    "cd Debug\n",
    "cmake ../\n",
    "make"
   ]
  },
  {
   "cell_type": "markdown",
   "id": "fbc61d99-798f-4c9d-a924-7604c77a9866",
   "metadata": {},
   "source": [
    "Execute the example"
   ]
  },
  {
   "cell_type": "code",
   "execution_count": null,
   "id": "bc247b58-3612-4c67-b376-9d8e30d30ee2",
   "metadata": {},
   "outputs": [],
   "source": [
    "%%sh\n",
    "cd ./FirstExample/Debug\n",
    "mpirun -np 4 hello"
   ]
  }
 ],
 "metadata": {
  "kernelspec": {
   "display_name": "myenv",
   "language": "python",
   "name": "myenv"
  },
  "language_info": {
   "codemirror_mode": {
    "name": "ipython",
    "version": 3
   },
   "file_extension": ".py",
   "mimetype": "text/x-python",
   "name": "python",
   "nbconvert_exporter": "python",
   "pygments_lexer": "ipython3",
   "version": "3.10.4"
  },
  "vscode": {
   "interpreter": {
    "hash": "d1d7b9e79537447614e8acc5b3c6c8d3a4952508aeb06e6bbce806b96f53eb0c"
   }
  }
 },
 "nbformat": 4,
 "nbformat_minor": 5
}
