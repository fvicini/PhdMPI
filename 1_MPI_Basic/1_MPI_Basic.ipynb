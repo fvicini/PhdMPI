{
 "cells": [
  {
   "cell_type": "markdown",
   "id": "b85cca78",
   "metadata": {},
   "source": [
    "# MPI Introduction"
   ]
  },
  {
   "cell_type": "markdown",
   "id": "e46983b5",
   "metadata": {},
   "source": [
    "## MPI Init and Finalize"
   ]
  },
  {
   "cell_type": "markdown",
   "id": "d9138e0b",
   "metadata": {},
   "source": [
    "Calls used to initialize and terminate the parallel session.\n",
    "\n",
    "* `MPI_Init`: see https://www.open-mpi.org/doc/v3.1/man3/MPI_Init.3.php\n",
    "* `MPI_Finalize`: see https://www.open-mpi.org/doc/v3.1/man3/MPI_Finalize.3.php\n",
    "\n",
    "The following program initialize the parallel session.\n",
    "\n",
    "**NB**: The arguments in `MPI_Init` are **not used** anymore but some compilers insist they are there."
   ]
  },
  {
   "cell_type": "code",
   "execution_count": null,
   "id": "4cbd99f1",
   "metadata": {},
   "outputs": [],
   "source": [
    "%%writefile main_init.cpp\n",
    "\n",
    "#include <iostream>\n",
    "#include <mpi.h>\n",
    "\n",
    "int main(int argc, char **argv) \n",
    "{\n",
    "    // Initialize MPI\n",
    "    // This must always be called before any other MPI functions\n",
    "    MPI_Init(&argc, &argv);\n",
    "    \n",
    "    std::cout<< \"Hello world!\"<< std::endl;\n",
    "\n",
    "    // Finalize MPI\n",
    "    // This must always be called after all other MPI functions\n",
    "    MPI_Finalize();\n",
    "\n",
    "    return 0;\n",
    "}"
   ]
  },
  {
   "cell_type": "code",
   "execution_count": null,
   "id": "b61bcf5e",
   "metadata": {},
   "outputs": [],
   "source": [
    "%%sh\n",
    "\n",
    "# compile program\n",
    "mkdir -p ./Debug\n",
    "cd Debug\n",
    "cmake -DSOURCES=\"main_init.cpp\" ..\n",
    "make"
   ]
  },
  {
   "cell_type": "code",
   "execution_count": null,
   "id": "3fd6188e",
   "metadata": {},
   "outputs": [],
   "source": [
    "%%sh\n",
    "\n",
    "# run program\n",
    "cd Debug\n",
    "mpirun -np 4 program"
   ]
  },
  {
   "cell_type": "markdown",
   "id": "ee2a6361",
   "metadata": {},
   "source": [
    "## MPI Communicators"
   ]
  },
  {
   "cell_type": "code",
   "execution_count": null,
   "id": "ad6888f1",
   "metadata": {},
   "outputs": [],
   "source": []
  }
 ],
 "metadata": {
  "kernelspec": {
   "display_name": "myenv",
   "language": "python",
   "name": "myenv"
  },
  "language_info": {
   "codemirror_mode": {
    "name": "ipython",
    "version": 3
   },
   "file_extension": ".py",
   "mimetype": "text/x-python",
   "name": "python",
   "nbconvert_exporter": "python",
   "pygments_lexer": "ipython3",
   "version": "3.10.4"
  }
 },
 "nbformat": 4,
 "nbformat_minor": 5
}
