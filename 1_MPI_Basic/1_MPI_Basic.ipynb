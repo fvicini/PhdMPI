{
 "cells": [
  {
   "cell_type": "markdown",
   "id": "924b4897",
   "metadata": {
    "slideshow": {
     "slide_type": "notes"
    }
   },
   "source": [
    "############# Markdown parser in Jupyter notebooks ##################\n",
    "\n",
    "<div class=\"alert alert-block alert-info\"> <b>NOTE</b> Use blue boxes for Tips and notes. </div>\n",
    "\n",
    "<div class=\"alert alert-block alert-success\"> Use green boxes sparingly, and only for some specific purpose that the other boxes can't cover. For example, if you have a lot of related content to link to, maybe you decide to use green boxes for related links from each section of a notebook. </div>\n",
    "\n",
    "<div class=\"alert alert-block alert-warning\"> Use yellow boxes for examples that are not inside code cells, or use for mathematical formulas if needed. </div>\n",
    "\n",
    "<div class=\"alert alert-block alert-danger\"> In general, just avoid the red boxes. </div>"
   ]
  },
  {
   "cell_type": "markdown",
   "id": "b853b1c8",
   "metadata": {
    "slideshow": {
     "slide_type": "slide"
    }
   },
   "source": [
    "# MPI Introduction\n",
    "\n",
    "An introduction to basic concept of MPI"
   ]
  },
  {
   "cell_type": "markdown",
   "id": "735fb7b1",
   "metadata": {
    "slideshow": {
     "slide_type": "slide"
    }
   },
   "source": [
    "## MPI Init and Finalize"
   ]
  },
  {
   "cell_type": "markdown",
   "id": "46158565",
   "metadata": {
    "slideshow": {
     "slide_type": "subslide"
    }
   },
   "source": [
    "Calls used to initialize and terminate the parallel session.\n",
    "\n",
    "* `MPI_Init`: see https://www.open-mpi.org/doc/v3.1/man3/MPI_Init.3.php\n",
    "* `MPI_Finalize`: see https://www.open-mpi.org/doc/v3.1/man3/MPI_Finalize.3.php\n",
    "\n",
    "The following program initialize a parallel session."
   ]
  },
  {
   "cell_type": "code",
   "execution_count": null,
   "id": "6b7dcd26",
   "metadata": {
    "slideshow": {
     "slide_type": "subslide"
    }
   },
   "outputs": [],
   "source": [
    "%%capture\n",
    "%%writefile main_init.cpp\n",
    "\n",
    "#include <iostream>\n",
    "#include <mpi.h>\n",
    "\n",
    "int main(int argc, char **argv) \n",
    "{\n",
    "    // Initialize MPI\n",
    "    // This must always be called before any other MPI functions\n",
    "    MPI_Init(&argc, &argv);\n",
    "    \n",
    "    std::cout<< \"Hello world!\"<< std::endl;\n",
    "\n",
    "    // Finalize MPI\n",
    "    // This must always be called after all other MPI functions\n",
    "    MPI_Finalize();\n",
    "\n",
    "    return 0;\n",
    "}"
   ]
  },
  {
   "cell_type": "markdown",
   "id": "a9f79e8f",
   "metadata": {},
   "source": [
    "<div class=\"alert alert-block alert-info\"> The arguments in <code>MPI_Init</code> are <strong>not used</strong> anymore but some compilers insist they are there. </div>"
   ]
  },
  {
   "cell_type": "code",
   "execution_count": null,
   "id": "277f71b3",
   "metadata": {
    "slideshow": {
     "slide_type": "subslide"
    }
   },
   "outputs": [],
   "source": [
    "%%sh\n",
    "\n",
    "# compile program\n",
    "mkdir -p ./debug_init\n",
    "cd debug_init\n",
    "cmake -DSOURCES=\"main_init.cpp\" ..\n",
    "make"
   ]
  },
  {
   "cell_type": "code",
   "execution_count": null,
   "id": "470a82bd",
   "metadata": {
    "slideshow": {
     "slide_type": "fragment"
    }
   },
   "outputs": [],
   "source": [
    "%%sh\n",
    "\n",
    "# run program\n",
    "cd debug_init\n",
    "mpirun -np 4 program"
   ]
  },
  {
   "cell_type": "markdown",
   "id": "7abba90c",
   "metadata": {
    "slideshow": {
     "slide_type": "slide"
    }
   },
   "source": [
    "## MPI Communicators"
   ]
  },
  {
   "cell_type": "markdown",
   "id": "7c5ff242",
   "metadata": {
    "slideshow": {
     "slide_type": "subslide"
    }
   },
   "source": [
    "It is possible to divide the total number of tasks into groups called **communicators**.\n",
    "The variable identifying a communicator identifies those tasks which can communicate with each other.\n",
    "\n",
    "<div class=\"alert alert-block alert-info\">The default communicator is called <code>MPI_COMM_WORLD</code> and includes <b>all</b> the tasks available to the program.</div>\n",
    "\n",
    "<img src=\"./Images/COMM_WORLD.png\" width=20% style=\"margin-left:auto; margin-right:auto\">\n",
    "\n",
    "\n",
    "* `MPI_Comm_size`: see https://www.open-mpi.org/doc/v3.1/man3/MPI_Comm_size.3.php\n",
    "* `MPI_Comm_rank`: see https://www.open-mpi.org/doc/v3.1/man3/MPI_Comm_rank.3.php"
   ]
  },
  {
   "cell_type": "code",
   "execution_count": null,
   "id": "30667f31",
   "metadata": {
    "slideshow": {
     "slide_type": "subslide"
    }
   },
   "outputs": [],
   "source": [
    "%%capture\n",
    "%%writefile main_communicators.cpp\n",
    "\n",
    "#include <iostream>\n",
    "#include <mpi.h>\n",
    "\n",
    "int main(int argc, char **argv)\n",
    "{\n",
    "    int err;\n",
    "    err = MPI_Init(&argc, &argv);\n",
    "    \n",
    "    int nprocs, my_rank;\n",
    "    \n",
    "    // Get the number of processes in MPI_COMM_WORLD\n",
    "    MPI_Comm_size(MPI_COMM_WORLD, &nprocs);\n",
    "    \n",
    "    // Get the rank of this process in MPI_COMM_WORLD\n",
    "    MPI_Comm_rank(MPI_COMM_WORLD, &my_rank);\n",
    "\n",
    "    std::cout<< \"Hello I am process \"<< my_rank<< \" of \"<< nprocs<< \" processes\"<< std::endl; \n",
    "    \n",
    "    err = MPI_Finalize();\n",
    "    \n",
    "    return 0;\n",
    "}"
   ]
  },
  {
   "cell_type": "markdown",
   "id": "119d98b9",
   "metadata": {},
   "source": [
    "<div class=\"alert alert-block alert-success\">\n",
    "    <ol>\n",
    "        <li> Remember that <b>every</b> process is running the same code independently \n",
    "        <li> At the end of the call, rank will have a <b>different</b> value for every process!\n",
    "    </ol>\n",
    "</div>"
   ]
  },
  {
   "cell_type": "code",
   "execution_count": null,
   "id": "45a0c4a4",
   "metadata": {
    "slideshow": {
     "slide_type": "subslide"
    }
   },
   "outputs": [],
   "source": [
    "%%sh\n",
    "\n",
    "# compile program\n",
    "mkdir -p ./debug_communicators\n",
    "cd debug_communicators\n",
    "cmake -DSOURCES=\"main_communicators.cpp\" ..\n",
    "make"
   ]
  },
  {
   "cell_type": "code",
   "execution_count": null,
   "id": "31212400",
   "metadata": {
    "slideshow": {
     "slide_type": "fragment"
    }
   },
   "outputs": [],
   "source": [
    "%%sh\n",
    "\n",
    "# run program\n",
    "cd debug_communicators\n",
    "mpirun -np 4 program"
   ]
  }
 ],
 "metadata": {
  "celltoolbar": "Slideshow",
  "kernelspec": {
   "display_name": "myenv",
   "language": "python",
   "name": "myenv"
  },
  "language_info": {
   "codemirror_mode": {
    "name": "ipython",
    "version": 3
   },
   "file_extension": ".py",
   "mimetype": "text/x-python",
   "name": "python",
   "nbconvert_exporter": "python",
   "pygments_lexer": "ipython3",
   "version": "3.10.4"
  }
 },
 "nbformat": 4,
 "nbformat_minor": 5
}
