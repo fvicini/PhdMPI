{
 "cells": [
  {
   "cell_type": "markdown",
   "id": "3de70423",
   "metadata": {
    "slideshow": {
     "slide_type": "notes"
    }
   },
   "source": [
    "############# Markdown note ##################\n",
    "\n",
    "<div class=\"alert alert-block alert-info\"> <b>NOTE</b> Use blue boxes for Tips and notes. </div>\n",
    "\n",
    "<div class=\"alert alert-block alert-success\"> Use green boxes sparingly, and only for some specific purpose that the other boxes can't cover. For example, if you have a lot of related content to link to, maybe you decide to use green boxes for related links from each section of a notebook. </div>\n",
    "\n",
    "<div class=\"alert alert-block alert-warning\"> Use yellow boxes for examples that are not inside code cells, or use for mathematical formulas if needed. </div>\n",
    "\n",
    "<div class=\"alert alert-block alert-danger\"> In general, just avoid the red boxes. </div>\n",
    "\n",
    "<img src=\"<path>\" width=20% style=\"margin-left:auto; margin-right:auto\">"
   ]
  },
  {
   "cell_type": "code",
   "execution_count": null,
   "id": "4626544b",
   "metadata": {},
   "outputs": [],
   "source": [
    "%% sh\n",
    "\n"
   ]
  },
  {
   "cell_type": "markdown",
   "id": "371497d9",
   "metadata": {
    "slideshow": {
     "slide_type": "slide"
    }
   },
   "source": [
    "# MPI Introduction\n",
    "\n",
    "An introduction to basic concept of **Message Passing Interface** (MPI)"
   ]
  },
  {
   "cell_type": "markdown",
   "id": "b853b1c8",
   "metadata": {
    "slideshow": {
     "slide_type": "subslide"
    }
   },
   "source": [
    "\n",
    "<div class=\"alert alert-block alert-warning\"> The MPI is a <b>standard</b> interface ruled by <a href=\"https://www.mpi-forum.org/\">MPI Forum</a>. </div>\n",
    "\n",
    "Born in 1992, first version released in 1994.\n",
    "\n",
    "Versions:\n",
    "* *MPI-1*, 1994\n",
    "* *MPI-2*, 1996\n",
    "* *MPI-3*, 2005\n",
    "* *MPI-4*, 2022\n",
    "\n",
    "<div class=\"alert alert-block alert-danger\">MPI for C++ is deprecated from version MPI 3.0</div>"
   ]
  },
  {
   "cell_type": "markdown",
   "id": "f62559dc",
   "metadata": {
    "slideshow": {
     "slide_type": "subslide"
    }
   },
   "source": [
    "<div class=\"alert alert-block alert-warning\"> Different <b>implementation</b> of the standard: </div>\n",
    "\n",
    "* C/C++;\n",
    "* Fortran;\n",
    "* Pyhton;\n",
    "* ...\n",
    "\n",
    "Both **open source** and **proprietary**:\n",
    "* [open-mpi](https://www.open-mpi.org/)\n",
    "* [mpich](https://www.mpich.org/)\n",
    "* [intelmpi](https://www.intel.com/content/www/us/en/developer/tools/oneapi/mpi-library.html) (proprietary)\n",
    "* [mpi4py](https://mpi4py.readthedocs.io/en/stable/index.html)\n",
    "\n",
    "<div class=\"alert alert-block alert-info\"> <b>DOCUMENTATION</b>: we are going to use C/C++ <a href=\"https://www.open-mpi.org/doc/v4.1/\">https://www.open-mpi.org/doc/v4.1/</a>.</div>\n",
    "\n",
    "<div class=\"alert alert-block alert-success\"> For some implementations (e.g. openmpi, intelmpi) multiple <b>compilers</b> are available. </div>"
   ]
  },
  {
   "cell_type": "markdown",
   "id": "3a755d04",
   "metadata": {
    "slideshow": {
     "slide_type": "slide"
    }
   },
   "source": [
    "## MPI - Start coding"
   ]
  },
  {
   "cell_type": "markdown",
   "id": "3eaf6be4",
   "metadata": {
    "slideshow": {
     "slide_type": "subslide"
    }
   },
   "source": [
    "### To start\n",
    "\n",
    "* For C++ we are going to use **mpic++** compiler (extension of **g++**) with `openmpi` MPI implementation.\n",
    "* For Python we use the `mpi4py` library.\n"
   ]
  },
  {
   "cell_type": "markdown",
   "id": "5656ccb4",
   "metadata": {
    "slideshow": {
     "slide_type": "subslide"
    }
   },
   "source": [
    "#### C++ (1)"
   ]
  },
  {
   "cell_type": "markdown",
   "id": "28f44ebe",
   "metadata": {
    "slideshow": {
     "slide_type": "-"
    }
   },
   "source": [
    "C++ Source file (*.cpp) + CMake file (CMakeLists.txt)"
   ]
  },
  {
   "cell_type": "code",
   "execution_count": 16,
   "id": "a0571531",
   "metadata": {
    "slideshow": {
     "slide_type": "-"
    }
   },
   "outputs": [
    {
     "name": "stdout",
     "output_type": "stream",
     "text": [
      "Overwriting main_example.cpp\n"
     ]
    }
   ],
   "source": [
    "%%writefile main_example.cpp\n",
    "\n",
    "#include <iostream> // output library \n",
    "#include <mpi.h> // MPI library\n",
    "\n",
    "int main(int argc, char **argv) \n",
    "{\n",
    "    std::cout<< \"Hello world!\"<< std::endl;\n",
    "    return 0;\n",
    "}"
   ]
  },
  {
   "cell_type": "code",
   "execution_count": 17,
   "id": "0a9f4712",
   "metadata": {
    "scrolled": true,
    "slideshow": {
     "slide_type": "-"
    }
   },
   "outputs": [
    {
     "name": "stdout",
     "output_type": "stream",
     "text": [
      "Overwriting CMakeLists.txt\n"
     ]
    }
   ],
   "source": [
    "%%writefile CMakeLists.txt\n",
    "\n",
    "cmake_minimum_required(VERSION 3.2)\n",
    "project(1_MPI_Basic LANGUAGES CXX C VERSION 1.0.0) # Name of the project\n",
    "\n",
    "set(SOURCES \"\" CACHE STRING \"The sources list\") # Variable which stores the cpp files\n",
    "\n",
    "find_package(MPI REQUIRED) # Find the MPI library\n",
    "\n",
    "add_executable(${PROJECT_NAME} ${SOURCES}) # add list of files to executable\n",
    "target_link_libraries(${PROJECT_NAME} MPI::MPI_CXX) # Link MPI library"
   ]
  },
  {
   "cell_type": "markdown",
   "id": "618661ca",
   "metadata": {
    "slideshow": {
     "slide_type": "subslide"
    }
   },
   "source": [
    "#### C++ (2)"
   ]
  },
  {
   "cell_type": "markdown",
   "id": "e64c24b7",
   "metadata": {
    "slideshow": {
     "slide_type": "-"
    }
   },
   "source": [
    "**Compile** and run code from terminal:"
   ]
  },
  {
   "cell_type": "code",
   "execution_count": 18,
   "id": "1b68a6e6",
   "metadata": {
    "collapsed": true,
    "slideshow": {
     "slide_type": "-"
    }
   },
   "outputs": [
    {
     "name": "stdout",
     "output_type": "stream",
     "text": [
      "-- The CXX compiler identification is GNU 12.2.0\n",
      "-- The C compiler identification is GNU 12.2.0\n",
      "-- Detecting CXX compiler ABI info\n",
      "-- Detecting CXX compiler ABI info - done\n",
      "-- Check for working CXX compiler: /home/geoscore/Desktop/GEO++/Courses/PhdMPI/myenv/bin/c++ - skipped\n",
      "-- Detecting CXX compile features\n",
      "-- Detecting CXX compile features - done\n",
      "-- Detecting C compiler ABI info\n",
      "-- Detecting C compiler ABI info - done\n",
      "-- Check for working C compiler: /home/geoscore/Desktop/GEO++/Courses/PhdMPI/myenv/bin/cc - skipped\n",
      "-- Detecting C compile features\n",
      "-- Detecting C compile features - done\n",
      "-- Found MPI_C: /home/geoscore/Desktop/GEO++/Courses/PhdMPI/myenv/lib/libmpi.so (found version \"3.1\") \n",
      "-- Found MPI_CXX: /home/geoscore/Desktop/GEO++/Courses/PhdMPI/myenv/lib/libmpi.so (found version \"3.1\") \n",
      "-- Found MPI: TRUE (found version \"3.1\")  \n",
      "-- Configuring done\n",
      "-- Generating done\n",
      "-- Build files have been written to: /home/geoscore/Desktop/GEO++/Courses/PhdMPI/1_MPI_Basic/debug_example\n",
      "[ 50%] Building CXX object CMakeFiles/1_MPI_Basic.dir/main_example.cpp.o\n",
      "[100%] Linking CXX executable 1_MPI_Basic\n",
      "[100%] Built target 1_MPI_Basic\n"
     ]
    }
   ],
   "source": [
    "%%sh\n",
    "\n",
    "# compile program\n",
    "mkdir -p ./debug_example\n",
    "cd debug_example\n",
    "cmake -DSOURCES=\"main_example.cpp\" ..\n",
    "make"
   ]
  },
  {
   "cell_type": "code",
   "execution_count": 19,
   "id": "481b047e",
   "metadata": {
    "scrolled": true,
    "slideshow": {
     "slide_type": "-"
    }
   },
   "outputs": [
    {
     "name": "stdout",
     "output_type": "stream",
     "text": [
      "Hello world!\n"
     ]
    }
   ],
   "source": [
    "%%sh\n",
    "\n",
    "# run program\n",
    "cd debug_example\n",
    "mpirun -np 1 1_MPI_Basic"
   ]
  },
  {
   "cell_type": "markdown",
   "id": "3a55e7c4",
   "metadata": {
    "slideshow": {
     "slide_type": "subslide"
    }
   },
   "source": [
    "#### Python"
   ]
  },
  {
   "cell_type": "markdown",
   "id": "32ed553a",
   "metadata": {
    "slideshow": {
     "slide_type": "-"
    }
   },
   "source": [
    "Python Source file (*.py)"
   ]
  },
  {
   "cell_type": "code",
   "execution_count": 20,
   "id": "350bb1d9",
   "metadata": {
    "slideshow": {
     "slide_type": "-"
    }
   },
   "outputs": [
    {
     "name": "stdout",
     "output_type": "stream",
     "text": [
      "Writing main_example.py\n"
     ]
    }
   ],
   "source": [
    "%%writefile main_example.py\n",
    "\n",
    "import mpi4py # import mpi4py module\n",
    "mpi4py.rc.initialize = False  # do not initialize MPI automatically\n",
    "mpi4py.rc.finalize = False    # do not finalize MPI automatically\n",
    "\n",
    "from mpi4py import MPI # import the 'MPI' module\n",
    "\n",
    "print(\"Hello world!\")"
   ]
  },
  {
   "cell_type": "markdown",
   "id": "6c31b415",
   "metadata": {
    "slideshow": {
     "slide_type": "-"
    }
   },
   "source": [
    "Run code from terminal (**No Compilation step**):"
   ]
  },
  {
   "cell_type": "code",
   "execution_count": 21,
   "id": "6cdc6ab1",
   "metadata": {},
   "outputs": [
    {
     "name": "stdout",
     "output_type": "stream",
     "text": [
      "Hello world!\n"
     ]
    }
   ],
   "source": [
    "%%sh\n",
    "\n",
    "# run program\n",
    "mpirun -np 1 python main_example.py"
   ]
  },
  {
   "cell_type": "markdown",
   "id": "735fb7b1",
   "metadata": {
    "slideshow": {
     "slide_type": "slide"
    }
   },
   "source": [
    "### MPI Parallel session - Init and Finalize"
   ]
  },
  {
   "cell_type": "markdown",
   "id": "46158565",
   "metadata": {
    "slideshow": {
     "slide_type": "-"
    }
   },
   "source": [
    "Calls used to initialize and terminate the parallel session.\n",
    "\n",
    "* `MPI_Init`: see https://www.open-mpi.org/doc/v4.1/man3/MPI_Init.3.php\n",
    "* `MPI_Finalize`: see https://www.open-mpi.org/doc/v4.1/man3/MPI_Finalize.3.php\n",
    "\n",
    "The following program initialize a parallel session."
   ]
  },
  {
   "cell_type": "markdown",
   "id": "9b3f9818",
   "metadata": {
    "slideshow": {
     "slide_type": "subslide"
    }
   },
   "source": [
    "### C++"
   ]
  },
  {
   "cell_type": "code",
   "execution_count": null,
   "id": "6b7dcd26",
   "metadata": {
    "slideshow": {
     "slide_type": "-"
    }
   },
   "outputs": [],
   "source": [
    "%%writefile main_init.cpp\n",
    "\n",
    "#include <iostream>\n",
    "#include <mpi.h>\n",
    "\n",
    "int main(int argc, char **argv) \n",
    "{\n",
    "    // Initialize MPI\n",
    "    // This must always be called before any other MPI functions\n",
    "    MPI_Init(&argc, &argv);\n",
    "    \n",
    "    std::cout<< \"Hello world!\"<< std::endl;\n",
    "\n",
    "    // Finalize MPI\n",
    "    // This must always be called after all other MPI functions\n",
    "    MPI_Finalize();\n",
    "\n",
    "    return 0;\n",
    "}"
   ]
  },
  {
   "cell_type": "markdown",
   "id": "d039670f",
   "metadata": {
    "slideshow": {
     "slide_type": "-"
    }
   },
   "source": [
    "<div class=\"alert alert-block alert-info\"> The arguments in <code>MPI_Init</code> are <strong>not used</strong> anymore but some compilers insist they are there. </div>"
   ]
  },
  {
   "cell_type": "code",
   "execution_count": null,
   "id": "277f71b3",
   "metadata": {
    "slideshow": {
     "slide_type": "subslide"
    }
   },
   "outputs": [],
   "source": [
    "%%sh\n",
    "\n",
    "# compile program\n",
    "mkdir -p ./debug_init\n",
    "cd debug_init\n",
    "cmake -DSOURCES=\"main_init.cpp\" ..\n",
    "make"
   ]
  },
  {
   "cell_type": "code",
   "execution_count": null,
   "id": "470a82bd",
   "metadata": {
    "slideshow": {
     "slide_type": "-"
    }
   },
   "outputs": [],
   "source": [
    "%%sh\n",
    "\n",
    "# run program\n",
    "cd debug_init\n",
    "mpirun -np 4 1_MPI_Basic"
   ]
  },
  {
   "cell_type": "markdown",
   "id": "6f745a2a",
   "metadata": {
    "slideshow": {
     "slide_type": "subslide"
    }
   },
   "source": [
    "### Python"
   ]
  },
  {
   "cell_type": "code",
   "execution_count": null,
   "id": "4d0271a3",
   "metadata": {
    "slideshow": {
     "slide_type": "-"
    }
   },
   "outputs": [],
   "source": [
    "%%writefile main_init.py\n",
    "\n",
    "import mpi4py\n",
    "mpi4py.rc.initialize = False  # do not initialize MPI automatically\n",
    "mpi4py.rc.finalize = False    # do not finalize MPI automatically\n",
    "\n",
    "from mpi4py import MPI # import the 'MPI' module\n",
    "\n",
    "# manual initialization of the MPI environment\n",
    "MPI.Init()\n",
    "\n",
    "print(\"Hello world!\")\n",
    "\n",
    "# manual finalization of the MPI environment\n",
    "MPI.Finalize()"
   ]
  },
  {
   "cell_type": "code",
   "execution_count": null,
   "id": "3e532c77",
   "metadata": {
    "slideshow": {
     "slide_type": "-"
    }
   },
   "outputs": [],
   "source": [
    "%%sh\n",
    "\n",
    "# run program\n",
    "mpirun -np 4 python main_init.py"
   ]
  },
  {
   "cell_type": "markdown",
   "id": "7abba90c",
   "metadata": {
    "slideshow": {
     "slide_type": "slide"
    }
   },
   "source": [
    "## MPI Communicators"
   ]
  },
  {
   "cell_type": "markdown",
   "id": "7c5ff242",
   "metadata": {
    "slideshow": {
     "slide_type": "-"
    }
   },
   "source": [
    "It is possible to divide the total number of tasks into groups called **communicators**.\n",
    "The variable identifying a communicator identifies those tasks which can communicate with each other.\n",
    "\n",
    "<div class=\"alert alert-block alert-info\">The default communicator is called <code>MPI_COMM_WORLD</code> and includes <b>all</b> the tasks available to the program.</div>\n",
    "\n",
    "<img src=\"./Images/COMM_WORLD.png\" width=20% style=\"margin-left:auto; margin-right:auto\">\n",
    "\n",
    "\n",
    "* `MPI_Comm_size`: see https://www.open-mpi.org/doc/v4.1/man3/MPI_Comm_size.3.php\n",
    "* `MPI_Comm_rank`: see https://www.open-mpi.org/doc/v4.1/man3/MPI_Comm_rank.3.php"
   ]
  },
  {
   "cell_type": "code",
   "execution_count": null,
   "id": "c7cc601c",
   "metadata": {
    "slideshow": {
     "slide_type": "subslide"
    }
   },
   "outputs": [],
   "source": [
    "%%writefile main_communicators.cpp\n",
    "\n",
    "#include <iostream>\n",
    "#include <mpi.h>\n",
    "\n",
    "int main(int argc, char **argv)\n",
    "{\n",
    "    int err;\n",
    "    err = MPI_Init(&argc, &argv);\n",
    "    \n",
    "    int nprocs, my_rank;\n",
    "    \n",
    "    // Get the number of processes in MPI_COMM_WORLD\n",
    "    err = MPI_Comm_size(MPI_COMM_WORLD, &nprocs);\n",
    "    \n",
    "    // Get the rank of this process in MPI_COMM_WORLD\n",
    "    err = MPI_Comm_rank(MPI_COMM_WORLD, &my_rank);\n",
    "\n",
    "    std::cout<< \"Hello I am process \"<< my_rank<< \" of \"<< nprocs<< \" processes\"<< std::endl; \n",
    "    \n",
    "    err = MPI_Finalize();\n",
    "    \n",
    "    return 0;\n",
    "}"
   ]
  },
  {
   "cell_type": "markdown",
   "id": "2484a4bd",
   "metadata": {
    "slideshow": {
     "slide_type": "-"
    }
   },
   "source": [
    "<div class=\"alert alert-block alert-success\">\n",
    "    <ol>\n",
    "        <li> Remember that <b>every</b> process is running the same code independently \n",
    "        <li> At the end of the call, rank will have a <b>different</b> value for every process!\n",
    "    </ol>\n",
    "</div>"
   ]
  },
  {
   "cell_type": "code",
   "execution_count": null,
   "id": "4cf53e29",
   "metadata": {
    "slideshow": {
     "slide_type": "subslide"
    }
   },
   "outputs": [],
   "source": [
    "%%sh\n",
    "\n",
    "# compile program\n",
    "mkdir -p ./debug_communicators\n",
    "cd debug_communicators\n",
    "cmake -DSOURCES=\"main_communicators.cpp\" ..\n",
    "make"
   ]
  },
  {
   "cell_type": "code",
   "execution_count": null,
   "id": "ddc2f0b1",
   "metadata": {
    "scrolled": true,
    "slideshow": {
     "slide_type": "-"
    }
   },
   "outputs": [],
   "source": [
    "%%sh\n",
    "\n",
    "# run program\n",
    "cd debug_communicators\n",
    "mpirun -np 4 1_MPI_Basic"
   ]
  },
  {
   "cell_type": "markdown",
   "id": "33383ee6",
   "metadata": {
    "slideshow": {
     "slide_type": "subslide"
    }
   },
   "source": [
    "Communicators can be created with different MPI routines:\n",
    "* `MPI_Comm_split`: https://www.open-mpi.org/doc/v4.1/man3/MPI_Comm_split.3.php\n",
    "* `MPI_Comm_dup`: https://www.open-mpi.org/doc/v4.1/man3/MPI_Comm_dup.3.php\n",
    "* `MPI_Comm_create`: https://www.open-mpi.org/doc/v4.1/man3/MPI_Comm_create.3.php\n",
    "* ...\n",
    "\n",
    "<div class=\"alert alert-block alert-danger\"> <b>NOTE</b>: Once a new communicator is created we shall destroy it before closing the application:</div>\n",
    "\n",
    "* `MPI_Comm_free`: https://www.open-mpi.org/doc/v4.1/man3/MPI_Comm_free.3.php\n",
    "\n",
    "<div class=\"alert alert-block alert-info\"> We are going to see more about communicators when we are going to see <b>Topologies</b>. </div>\n"
   ]
  },
  {
   "cell_type": "markdown",
   "id": "eaf0e0f6",
   "metadata": {
    "slideshow": {
     "slide_type": "subslide"
    }
   },
   "source": [
    "### Example of MPI Comm Split\n",
    "\n",
    "`MPI_Comm_split`: https://www.open-mpi.org/doc/v4.1/man3/MPI_Comm_split.3.php\n",
    "<img src=\"./Images/comm_split.png\" width=40% style=\"margin-left:auto; margin-right:auto\">"
   ]
  },
  {
   "cell_type": "code",
   "execution_count": null,
   "id": "3e9401da",
   "metadata": {
    "slideshow": {
     "slide_type": "subslide"
    }
   },
   "outputs": [],
   "source": [
    "%%writefile main_comm_split.cpp\n",
    "\n",
    "#include <iostream>\n",
    "#include <mpi.h>\n",
    "int main(int argc, char **argv)\n",
    "{\n",
    "    int err;\n",
    "    MPI_Init(&argc, &argv);\n",
    "    \n",
    "    int nprocs, my_rank;\n",
    "    \n",
    "    // Get the rank and size in the original communicator\n",
    "    int world_rank, world_size;\n",
    "    MPI_Comm_rank(MPI_COMM_WORLD, &world_rank);\n",
    "    MPI_Comm_size(MPI_COMM_WORLD, &world_size);\n",
    "\n",
    "    unsigned int color = world_rank / 4; // Determine color based on row\n",
    "    \n",
    "    // Split the communicator based on the color and use the\n",
    "    // original rank for ordering\n",
    "    MPI_Comm row_comm;\n",
    "    err = MPI_Comm_split(MPI_COMM_WORLD, color, world_rank, &row_comm);\n",
    "    \n",
    "    int row_rank, row_size;\n",
    "    MPI_Comm_rank(row_comm, &row_rank);\n",
    "    MPI_Comm_size(row_comm, &row_size);\n",
    "    \n",
    "    std::cout<< \"WORLD RANK/SIZE: \"<< world_rank<< \"/\"<< world_size<< \"\\t\";\n",
    "    std::cout<< \"ROW RANK/SIZE: \"<< row_rank<< \"/\"<< row_size<< std::endl;\n",
    "    \n",
    "    // Free the communicator\n",
    "    MPI_Comm_free(&row_comm);\n",
    "    \n",
    "    MPI_Finalize();\n",
    "    \n",
    "    return 0;\n",
    "}"
   ]
  },
  {
   "cell_type": "code",
   "execution_count": null,
   "id": "ba43a365",
   "metadata": {
    "slideshow": {
     "slide_type": "subslide"
    }
   },
   "outputs": [],
   "source": [
    "%%sh\n",
    "\n",
    "# compile program\n",
    "mkdir -p ./debug_comm_split\n",
    "cd debug_comm_split\n",
    "cmake -DSOURCES=\"main_comm_split.cpp\" ..\n",
    "make"
   ]
  },
  {
   "cell_type": "code",
   "execution_count": null,
   "id": "9134b4b6",
   "metadata": {
    "slideshow": {
     "slide_type": "-"
    }
   },
   "outputs": [],
   "source": [
    "%%sh\n",
    "\n",
    "# run program\n",
    "cd debug_comm_split\n",
    "mpirun --oversubscribe -np 16 1_MPI_Basic"
   ]
  }
 ],
 "metadata": {
  "celltoolbar": "Slideshow",
  "kernelspec": {
   "display_name": "myenv",
   "language": "python",
   "name": "myenv"
  },
  "language_info": {
   "codemirror_mode": {
    "name": "ipython",
    "version": 3
   },
   "file_extension": ".py",
   "mimetype": "text/x-python",
   "name": "python",
   "nbconvert_exporter": "python",
   "pygments_lexer": "ipython3",
   "version": "3.10.4"
  }
 },
 "nbformat": 4,
 "nbformat_minor": 5
}
