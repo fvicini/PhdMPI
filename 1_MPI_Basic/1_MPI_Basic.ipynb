{
 "cells": [
  {
   "cell_type": "markdown",
   "id": "b853b1c8",
   "metadata": {
    "slideshow": {
     "slide_type": "slide"
    }
   },
   "source": [
    "# MPI Introduction\n",
    "\n",
    "An introduction to basic concept of MPI"
   ]
  },
  {
   "cell_type": "markdown",
   "id": "735fb7b1",
   "metadata": {
    "slideshow": {
     "slide_type": "slide"
    }
   },
   "source": [
    "## MPI Init and Finalize"
   ]
  },
  {
   "cell_type": "markdown",
   "id": "46158565",
   "metadata": {
    "slideshow": {
     "slide_type": "subslide"
    }
   },
   "source": [
    "Calls used to initialize and terminate the parallel session.\n",
    "\n",
    "* `MPI_Init`: see https://www.open-mpi.org/doc/v3.1/man3/MPI_Init.3.php\n",
    "* `MPI_Finalize`: see https://www.open-mpi.org/doc/v3.1/man3/MPI_Finalize.3.php\n",
    "\n",
    "The following program initialize the parallel session.\n",
    "\n",
    "**NB**: The arguments in `MPI_Init` are **not used** anymore but some compilers insist they are there."
   ]
  },
  {
   "cell_type": "code",
   "execution_count": 14,
   "id": "6b7dcd26",
   "metadata": {
    "slideshow": {
     "slide_type": "subslide"
    }
   },
   "outputs": [],
   "source": [
    "%%capture\n",
    "%%writefile main_init.cpp\n",
    "\n",
    "#include <iostream>\n",
    "#include <mpi.h>\n",
    "\n",
    "int main(int argc, char **argv) \n",
    "{\n",
    "    // Initialize MPI\n",
    "    // This must always be called before any other MPI functions\n",
    "    MPI_Init(&argc, &argv);\n",
    "    \n",
    "    std::cout<< \"Hello world!\"<< std::endl;\n",
    "\n",
    "    // Finalize MPI\n",
    "    // This must always be called after all other MPI functions\n",
    "    MPI_Finalize();\n",
    "\n",
    "    return 0;\n",
    "}"
   ]
  },
  {
   "cell_type": "code",
   "execution_count": 15,
   "id": "277f71b3",
   "metadata": {
    "slideshow": {
     "slide_type": "fragment"
    }
   },
   "outputs": [
    {
     "name": "stdout",
     "output_type": "stream",
     "text": [
      "-- Configuring done\n",
      "-- Generating done\n",
      "-- Build files have been written to: /home/geoscore/Desktop/GEO++/Courses/PhdMPI/1_MPI_Basic/Debug\n",
      "Consolidate compiler generated dependencies of target program\n",
      "[ 50%] Building CXX object CMakeFiles/program.dir/main_init.cpp.o\n",
      "[100%] Linking CXX executable program\n",
      "[100%] Built target program\n"
     ]
    }
   ],
   "source": [
    "%%sh\n",
    "\n",
    "# compile program\n",
    "mkdir -p ./Debug\n",
    "cd Debug\n",
    "cmake -DSOURCES=\"main_init.cpp\" ..\n",
    "make"
   ]
  },
  {
   "cell_type": "code",
   "execution_count": 16,
   "id": "470a82bd",
   "metadata": {
    "slideshow": {
     "slide_type": "fragment"
    }
   },
   "outputs": [
    {
     "name": "stdout",
     "output_type": "stream",
     "text": [
      "Hello world!\n",
      "Hello world!\n",
      "Hello world!\n",
      "Hello world!\n"
     ]
    }
   ],
   "source": [
    "%%sh\n",
    "\n",
    "# run program\n",
    "cd Debug\n",
    "mpirun -np 4 program"
   ]
  },
  {
   "cell_type": "markdown",
   "id": "7abba90c",
   "metadata": {
    "slideshow": {
     "slide_type": "slide"
    }
   },
   "source": [
    "## MPI Communicators"
   ]
  },
  {
   "cell_type": "markdown",
   "id": "7c5ff242",
   "metadata": {
    "slideshow": {
     "slide_type": "subslide"
    }
   },
   "source": [
    "It is possible to divide the total number of tasks into groups called **communicators**.\n",
    "The variable identifying a communicator identifies those tasks which can communicate with each other.\n",
    "\n",
    "**NB** The default communicator is called `MPI_COMM_WORLD` and by default includes all the tasks available to the program.\n",
    "\n",
    "<img src=\"./Images/COMM_WORLD.png\" width=20% style=\"margin-left:auto; margin-right:auto\">"
   ]
  }
 ],
 "metadata": {
  "celltoolbar": "Slideshow",
  "kernelspec": {
   "display_name": "myenv",
   "language": "python",
   "name": "myenv"
  },
  "language_info": {
   "codemirror_mode": {
    "name": "ipython",
    "version": 3
   },
   "file_extension": ".py",
   "mimetype": "text/x-python",
   "name": "python",
   "nbconvert_exporter": "python",
   "pygments_lexer": "ipython3",
   "version": "3.10.4"
  }
 },
 "nbformat": 4,
 "nbformat_minor": 5
}
