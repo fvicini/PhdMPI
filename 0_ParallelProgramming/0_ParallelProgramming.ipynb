{
 "cells": [
  {
   "cell_type": "markdown",
   "id": "f05f435d",
   "metadata": {
    "slideshow": {
     "slide_type": "notes"
    }
   },
   "source": [
    "############# Markdown note ##################\n",
    "\n",
    "<div class=\"alert alert-block alert-info\"> <b>NOTE</b> Use blue boxes for Tips and notes. </div>\n",
    "\n",
    "<div class=\"alert alert-block alert-success\"> Use green boxes sparingly, and only for some specific purpose that the other boxes can't cover. For example, if you have a lot of related content to link to, maybe you decide to use green boxes for related links from each section of a notebook. </div>\n",
    "\n",
    "<div class=\"alert alert-block alert-warning\"> Use yellow boxes for examples that are not inside code cells, or use for mathematical formulas if needed. </div>\n",
    "\n",
    "<div class=\"alert alert-block alert-danger\"> In general, just avoid the red boxes. </div>\n",
    "\n",
    "<img src=\"<path>\" width=20% style=\"margin-left:auto; margin-right:auto\">"
   ]
  },
  {
   "cell_type": "markdown",
   "id": "fa21a34a",
   "metadata": {
    "slideshow": {
     "slide_type": "slide"
    }
   },
   "source": [
    "# Introduction to HPC\n",
    "High Performance Computing"
   ]
  },
  {
   "cell_type": "markdown",
   "id": "44b50f4c",
   "metadata": {
    "slideshow": {
     "slide_type": "subslide"
    }
   },
   "source": [
    "## Von Neumann architecture\n",
    "\n",
    "Is the architecture of *conventional* computers.\n",
    "For each **instruction** the processor shall do:\n",
    "1. the instruction is loaded from memory (**fetch**) and decoded;\n",
    "2. Compute the addresses of operands;\n",
    "3. Fetch the operands from memory;\n",
    "4. Execute the instruction;\n",
    "5. Write the result in memory (**store**).\n",
    "\n",
    "<img src=\"./Images/Von_Neumann_Architecture.svg.png\" width=30% style=\"margin-left:auto; margin-right:auto\">\n",
    "\n",
    "<div class=\"alert alert-block alert-warning\"><b>VON NEUMANN BOTTLENECK</b>: instruction fetch and a data operation <b>cannot</b> occur at the same time (since they share a common bus). Limits the performance.</div>"
   ]
  },
  {
   "cell_type": "markdown",
   "id": "88edc8de",
   "metadata": {
    "slideshow": {
     "slide_type": "subslide"
    }
   },
   "source": [
    "## Clock cycle and frequency\n",
    "\n",
    "The **Clock Cycle** ($\\tau$) is a single increment of the Central Processing Unit (CPU) clock during which the smallest instruction is carried out.\n",
    "It is a time betwenn two pulses of the oscillator inside the processor.\n",
    "\n",
    "<div class=\"alert alert-block alert-success\"> $\\tau$ is considered the basic unit of measuring how fast an instruction can be executed by the computer processor. </div>\n",
    "\n",
    "The number of clock cycle per second is known as **Clock Speed** or **Clock Frequency**, measured in `GHz`.\n",
    "\n",
    "<img src=\"./Images/tau.png\" width=30% style=\"margin-left:auto; margin-right:auto\">"
   ]
  }
 ],
 "metadata": {
  "celltoolbar": "Slideshow",
  "kernelspec": {
   "display_name": "myenv",
   "language": "python",
   "name": "myenv"
  },
  "language_info": {
   "codemirror_mode": {
    "name": "ipython",
    "version": 3
   },
   "file_extension": ".py",
   "mimetype": "text/x-python",
   "name": "python",
   "nbconvert_exporter": "python",
   "pygments_lexer": "ipython3",
   "version": "3.10.4"
  }
 },
 "nbformat": 4,
 "nbformat_minor": 5
}
