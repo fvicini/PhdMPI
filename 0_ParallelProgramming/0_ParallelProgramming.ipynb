{
 "cells": [
  {
   "cell_type": "markdown",
   "id": "8e384f49",
   "metadata": {
    "slideshow": {
     "slide_type": "notes"
    }
   },
   "source": [
    "############# Markdown note ##################\n",
    "\n",
    "<div class=\"alert alert-block alert-info\"> <b>NOTE</b> Use blue boxes for Tips and notes. </div>\n",
    "\n",
    "<div class=\"alert alert-block alert-success\"> Use green boxes sparingly, and only for some specific purpose that the other boxes can't cover. For example, if you have a lot of related content to link to, maybe you decide to use green boxes for related links from each section of a notebook. </div>\n",
    "\n",
    "<div class=\"alert alert-block alert-warning\"> Use yellow boxes for examples that are not inside code cells, or use for mathematical formulas if needed. </div>\n",
    "\n",
    "<div class=\"alert alert-block alert-danger\"> In general, just avoid the red boxes. </div>\n",
    "\n",
    "<img src=\"<path>\" width=20% style=\"margin-left:auto; margin-right:auto\">"
   ]
  },
  {
   "cell_type": "markdown",
   "id": "8c084e9f",
   "metadata": {
    "slideshow": {
     "slide_type": "slide"
    }
   },
   "source": [
    "# Introduction to HPC\n",
    "High Performance Computing"
   ]
  },
  {
   "cell_type": "markdown",
   "id": "051e1574",
   "metadata": {
    "slideshow": {
     "slide_type": "slide"
    }
   },
   "source": [
    "## Computer architecture"
   ]
  },
  {
   "cell_type": "markdown",
   "id": "321ed50e",
   "metadata": {
    "slideshow": {
     "slide_type": "subslide"
    }
   },
   "source": [
    "## Von Neumann architecture\n",
    "\n",
    "Is the architecture of *conventional* computers.\n",
    "For each **instruction** the processor shall do:\n",
    "1. the instruction is loaded from register memory (**fetch**) and decoded;\n",
    "2. Compute the addresses of operands;\n",
    "3. Fetch the operands from memory;\n",
    "4. Execute the instruction;\n",
    "5. Write the result in memory (**store**).\n",
    "\n",
    "<img src=\"./Images/Von_Neumann_Architecture.png\" width=30% style=\"margin-left:auto; margin-right:auto\">\n",
    "\n",
    "<div class=\"alert alert-block alert-warning\"><b>VON NEUMANN BOTTLENECK</b>: instruction fetch and a data operation <b>cannot</b> occur at the same time (since they share a common bus). Limits the performance.</div>"
   ]
  },
  {
   "cell_type": "markdown",
   "id": "db41c679",
   "metadata": {
    "slideshow": {
     "slide_type": "subslide"
    }
   },
   "source": [
    "## Clock cycle and frequency\n",
    "\n",
    "The **Clock Cycle** ($\\tau$) is a single increment of the Central Processing Unit (CPU) clock during which the smallest instruction is carried out.\n",
    "It is a time betwenn two pulses of the oscillator inside the processor.\n",
    "\n",
    "<div class=\"alert alert-block alert-success\"> $\\tau$ is considered the basic unit of measuring how fast an instruction can be executed by the computer processor. </div>\n",
    "\n",
    "The number of clock cycle per second is known as **Clock Speed** or **Clock Frequency**, measured in `GHz`.\n",
    "\n",
    "<img src=\"./Images/tau.png\" width=30% style=\"margin-left:auto; margin-right:auto\">"
   ]
  },
  {
   "cell_type": "markdown",
   "id": "21f8d906",
   "metadata": {
    "slideshow": {
     "slide_type": "subslide"
    }
   },
   "source": [
    "## Moore's law\n",
    "\n",
    "<img src=\"./Images/Moore.png\" width=65% style=\"margin-left:auto; margin-right:auto\">\n",
    "\n",
    "<div class=\"alert alert-block alert-info\">The <b>complexity</b> of devices (number of transistors per square inch in microprocessors) doubles every 18 months...</div>"
   ]
  },
  {
   "cell_type": "markdown",
   "id": "b2f66018",
   "metadata": {
    "slideshow": {
     "slide_type": "subslide"
    }
   },
   "source": [
    "## Is the Moore's law the problem?\n",
    "\n",
    "Increase in *transistor numbers* does not necessarily mean more CPU power, therefore a faster software.\n",
    "\n",
    "<div class=\"alert alert-block alert-warning\">Most of the softwares <b>struggle</b> to make use of the available hardware threads.</div>\n",
    "\n",
    "The real **limitation** is the performance difference between processors and getting data to/from memory\n",
    "\n",
    "<img src=\"./Images/memory.png\" width=30% style=\"margin-left:auto; margin-right:auto\">\n",
    "\n",
    "<div class=\"alert alert-block alert-success\">Important to <b>minimise</b> the time to transfer data from/to\n",
    "the CPU</div>"
   ]
  },
  {
   "cell_type": "markdown",
   "id": "a38a6297",
   "metadata": {
    "slideshow": {
     "slide_type": "subslide"
    }
   },
   "source": [
    "## Memory and Processor\n",
    "\n",
    "To measure memory/data transfer performance:\n",
    "1. **Bandwidth** - how much data can be transferred in a data channel;\n",
    "2. **Latency** - the minimum time needed to transfer data.\n",
    "\n",
    "<img src=\"./Images/memory_2.png\" width=50% style=\"margin-left:auto; margin-right:auto\">"
   ]
  },
  {
   "cell_type": "markdown",
   "id": "6bf4430c",
   "metadata": {
    "slideshow": {
     "slide_type": "subslide"
    }
   },
   "source": [
    "## Cache levels\n",
    "\n",
    "Cache memory is classified in terms of **levels**, which\n",
    "describe its closeness to the microprocessor.\n",
    "* **Level 1 (L1)** - extremely fast but small (e.g 32K), usually embedded in the CPU.\n",
    "* **Level 2 (L2)** - bigger (e.g. 2Mb) but slower, maybe on a separate chip.\n",
    "* **Level 3 (L3)** - often shared among cores.\n",
    "\n",
    "<div class=\"alert alert-block alert-info\">Each core usually has its own dedicated L1 and L2 cache.</div>\n",
    "\n",
    "<img src=\"./Images/cache.png\" width=30% style=\"margin-left:auto; margin-right:auto\">\n",
    "\n",
    "In HPC exploiting the cache is crucial for performance.\n",
    "\n",
    "<div class=\"alert alert-block alert-danger\">Programs waiting for data from memory are memory bound.</div>"
   ]
  },
  {
   "cell_type": "markdown",
   "id": "f1089fd6",
   "metadata": {
    "slideshow": {
     "slide_type": "slide"
    }
   },
   "source": [
    "## Parallelism"
   ]
  },
  {
   "cell_type": "markdown",
   "id": "d64eae71",
   "metadata": {
    "slideshow": {
     "slide_type": "subslide"
    }
   },
   "source": [
    "## Different parallelism\n",
    "\n",
    "Parallelism which can be present at many levels:\n",
    "* **Vector** processing (e.g. data parallelism);\n",
    "* **Hyperthreading** (e.g. 4 hardware threads/core for Intel KNL);\n",
    "* Cores / processor (e.g. 18 for Intel Broadwell);\n",
    "* Processors + **accelerators** (e.g. CPU+GPU);\n",
    "* Multiple **Nodes** in a system.\n",
    "\n",
    "\n",
    "<div class=\"alert alert-block alert-info\">To reach the maximum (<b>peak</b>) performance of a parallel computer, all levels of parallelism need to be exploited.</div>"
   ]
  },
  {
   "cell_type": "markdown",
   "id": "4742d1f7",
   "metadata": {
    "slideshow": {
     "slide_type": "subslide"
    }
   },
   "source": [
    "<img src=\"./Images/parallelism.png\" width=80% style=\"margin-left:auto; margin-right:auto\">"
   ]
  }
 ],
 "metadata": {
  "celltoolbar": "Slideshow",
  "kernelspec": {
   "display_name": "myenv",
   "language": "python",
   "name": "myenv"
  },
  "language_info": {
   "codemirror_mode": {
    "name": "ipython",
    "version": 3
   },
   "file_extension": ".py",
   "mimetype": "text/x-python",
   "name": "python",
   "nbconvert_exporter": "python",
   "pygments_lexer": "ipython3",
   "version": "3.10.4"
  }
 },
 "nbformat": 4,
 "nbformat_minor": 5
}
